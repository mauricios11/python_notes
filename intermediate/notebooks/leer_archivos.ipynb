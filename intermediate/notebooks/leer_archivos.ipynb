{
 "cells": [
  {
   "cell_type": "code",
   "execution_count": null,
   "metadata": {},
   "outputs": [],
   "source": []
  },
  {
   "attachments": {},
   "cell_type": "markdown",
   "metadata": {},
   "source": [
    "*a parte de este nb, también está el archivo: \"leer_archivos.py\" donde se estará trabajando este mismo tema. Aplicando estos conceptos a un py file*\n",
    "\n",
    "### leer un archivo de texto (txt)\n",
    "\n",
    "**1-** Asignamos una variable que contenga al statement $\\rightarrow$ `file_txt`\n",
    "\n",
    "**2-** dentro de la variable usamos `open(\"./ruta/\")` $\\rightarrow$ `file_txt = open(\"./ruta/\")`\n",
    "\n",
    "**3-** Para leer el archivo que acabamos de *abrir*, invocamos a la variable y le aplicamos un `read()` $\\rightarrow$ `file_txt.read()\n",
    "` \n",
    "* para cerrar el archivo después de usarlo usamos `file_txt.close()`\n",
    "### abrir un archivo desde un jupyter nb\n",
    "\n",
    "*Hay que acceder a un archivo que está ubicado en una carpeta distinta a la del nb*\n",
    "\n",
    "**1-** Asignamos una variable  que contenga la ubicación actual (carpeta notebooks) $\\rightarrow$ `CURRENT_DIR = os.getcwd()`\n",
    "\n",
    "**2-** Hay que unir la ruta  de ubicación actual con la del archivo desdeado, por lo cual: hacemos un `os.join.path()` que tendrá como argumentos:\n",
    "\n",
    "* ubicación actual\n",
    "\n",
    "* `os.pardir` (parent directory de la ubicación actual $\\equiv$ \"`..`\")\n",
    "\n",
    "* \"carpeta / archivo deseado\"\n",
    "\n",
    "`FILE = os.join,path(CURRENT_DIR , os.pardir, \"carpeta\", \"documento.txt\" )`\n",
    "    \n",
    "*$\\uparrow$ esta será la variable de la ruta $\\uparrow$*\n",
    "\n",
    "**3-** Para abrir el archivo. En otra nueva variable usamos un `open(variable de la ruta)` $\\rightarrow$ `file_txt = open(FILE)`\n",
    "\n",
    "**4-** invocamos la variable anterior (3) y le aplicamos un `.read()`\n",
    "* igualmente que en un pyfile, para cerrar el archivo usamons `file_txt.close()`\n",
    "\n"
   ]
  },
  {
   "cell_type": "code",
   "execution_count": 2,
   "metadata": {},
   "outputs": [],
   "source": [
    "import os"
   ]
  },
  {
   "cell_type": "code",
   "execution_count": 3,
   "metadata": {},
   "outputs": [
    {
     "data": {
      "text/plain": [
       "'/Users/holamauricios/Documents/python_projects/python_projects/intermediate/notebooks'"
      ]
     },
     "execution_count": 3,
     "metadata": {},
     "output_type": "execute_result"
    }
   ],
   "source": [
    "CURRENT_DIR = os.getcwd()\n",
    "CURRENT_DIR"
   ]
  },
  {
   "cell_type": "code",
   "execution_count": 4,
   "metadata": {},
   "outputs": [],
   "source": [
    "FILE_path = os.path.join(CURRENT_DIR, os.pardir, \"data\", \"file.txt\")\n",
    "DATA_DIR = os.path.join(CURRENT_DIR, os.pardir , \"data\")"
   ]
  },
  {
   "attachments": {},
   "cell_type": "markdown",
   "metadata": {},
   "source": [
    "para verificar que el archivo está ubicado en ese lugar. Hacemos una lista de los elementos en la carpeta que contiene el archivo (data)"
   ]
  },
  {
   "cell_type": "code",
   "execution_count": 5,
   "metadata": {},
   "outputs": [
    {
     "data": {
      "text/plain": [
       "['/Users/holamauricios/Documents/python_projects/python_projects/intermediate/notebooks/../data/file.txt']"
      ]
     },
     "execution_count": 5,
     "metadata": {},
     "output_type": "execute_result"
    }
   ],
   "source": [
    "[os.path.join(DATA_DIR, item) for item in os.listdir(DATA_DIR)]"
   ]
  },
  {
   "cell_type": "code",
   "execution_count": 6,
   "metadata": {},
   "outputs": [
    {
     "data": {
      "text/plain": [
       "'\"Este es un archivo txt\"\\nEsta es la segunda línea\\nEsta es la tercera línea\\nEsta es una nueva línea de text en el archivo\\nEsta es una nueva línea de text en el archivo\\nEsta es una nueva línea de text en el archivo\\nEsta es una nueva línea de text en el archivo'"
      ]
     },
     "execution_count": 6,
     "metadata": {},
     "output_type": "execute_result"
    }
   ],
   "source": [
    "file_txt = open(FILE_path)\n",
    "file_txt.read()\n"
   ]
  },
  {
   "attachments": {},
   "cell_type": "markdown",
   "metadata": {},
   "source": [
    "Para leer el archivo línea por línea usamos: `.readline()`"
   ]
  },
  {
   "cell_type": "code",
   "execution_count": 7,
   "metadata": {},
   "outputs": [
    {
     "name": "stdout",
     "output_type": "stream",
     "text": [
      "\"Este es un archivo txt\"\n",
      "\n",
      "Esta es la segunda línea\n",
      "\n",
      "Esta es la tercera línea\n",
      "\n"
     ]
    }
   ],
   "source": [
    "file_txt.close()\n",
    "file_txt = open(FILE_path)\n",
    "print(file_txt.readline())\n",
    "print(file_txt.readline())\n",
    "print(file_txt.readline())"
   ]
  },
  {
   "cell_type": "code",
   "execution_count": 8,
   "metadata": {},
   "outputs": [
    {
     "data": {
      "text/plain": [
       "{0: '\"Este es un archivo txt\"\\n',\n",
       " 1: 'Esta es la segunda línea\\n',\n",
       " 2: 'Esta es la tercera línea\\n'}"
      ]
     },
     "execution_count": 8,
     "metadata": {},
     "output_type": "execute_result"
    }
   ],
   "source": [
    "file_txt.close()\n",
    "\n",
    "#diccionario de líneas\n",
    "file_txt = open(FILE_path)\n",
    "dict_lines  = {0: None, 1: None, 2: None}\n",
    "for line in dict_lines:\n",
    "    dict_lines[line] = file_txt.readline()\n",
    "    \n",
    "dict_lines"
   ]
  },
  {
   "cell_type": "code",
   "execution_count": 9,
   "metadata": {},
   "outputs": [],
   "source": [
    "file_txt.close()"
   ]
  },
  {
   "attachments": {},
   "cell_type": "markdown",
   "metadata": {},
   "source": [
    "Hay una instrucción en python para indicar que abra un archivo\n",
    "* una vez terminado de ejecutar el código. Automáticamente lo cerrará\n",
    "\n",
    "la sintaxis es la siguiente: \n",
    "    \n",
    ">      with open(FILE_DIR) as file:\n",
    "       for line in file:\n",
    "         print(line) \n",
    "\n",
    "después de ejecutar el código, el archivo se cerrará"
   ]
  },
  {
   "cell_type": "code",
   "execution_count": 16,
   "metadata": {},
   "outputs": [
    {
     "name": "stdout",
     "output_type": "stream",
     "text": [
      "\n",
      "\n",
      "Esta es una nueva línea agregada al file.txt desde un nb \n",
      "\n",
      "Esta es otra línea agregada en el archivo desde un nb \n",
      "\n",
      " Esta es una nueva línea agregada desde el pyfile\n"
     ]
    }
   ],
   "source": [
    "with open(FILE_path) as file_txt:\n",
    "    for linea in file_txt:\n",
    "        print(linea)"
   ]
  },
  {
   "attachments": {},
   "cell_type": "markdown",
   "metadata": {},
   "source": [
    "## Agregar contenido al file.txt\n",
    "\n",
    "Al usar `open()` solo tenemos permisos de lectura de manera predeterminada \n",
    "* Para agregar permisos, tanto de escritura, como de lectura, podemos especificar como argumento: 'r+'\n",
    "así: `with open(\"ruta\", \"r+\") as file:`\n",
    "\n",
    "Teniendo los permisos de escritura, ahora usamos `write()` colocando como argumento aquello que queremos agregar\n",
    "\n",
    "## argumentos de open( )\n",
    "respecto a los argumentos de lectura y escritura de `open()`\n",
    "* `'r+'`: leer y escribir más líneas por debajo de las ya existentes\n",
    "* `'w+'`: sobreescribir las líneas ya existentes\n",
    "* `'rb'`: abre un archivo solo para lectura en formato binario\n",
    "  * El puntero al archivo está localizado al comienzo del archivo. Este es el modo predeterminado de la función\n",
    "* `'wb'`: > abre un archivo solo para escritura en formato binario.\n",
    "  * Sobreescribe el archivo si este ya existe, y si el archivo no existe crea un nuevo archivo para escritura\n",
    "* `'a'`: abre un archivo para anexo.\n",
    "  * El puntero del archivo esta al final del archivo si este existe. \n",
    "    * Es decir, el archivo está en modo anexo, y si el archivo no existe crea un nuevo archivo para escritura"
   ]
  },
  {
   "cell_type": "code",
   "execution_count": 21,
   "metadata": {},
   "outputs": [],
   "source": [
    "with open(FILE_path, \"w+\") as file_txt:\n",
    "    counter = 1\n",
    "    for line in file_txt:\n",
    "        print(f'Esta es la línea {counter}: {line}\\n')\n",
    "        counter = counter +1\n",
    "        \n",
    "    file_txt.write(\"Esta es una nueva línea agregada al file.txt desde un nb\\n \")\n",
    "    file_txt.write(\"Esta es otra línea agregada en el archivo desde un nb\\n \")\n",
    "    \n",
    "    "
   ]
  },
  {
   "cell_type": "code",
   "execution_count": 23,
   "metadata": {},
   "outputs": [
    {
     "name": "stdout",
     "output_type": "stream",
     "text": [
      "Esta es una nueva línea agregada al file.txt desde un nb\n",
      " Esta es otra línea agregada en el archivo desde un nb\n",
      " Esta es una nueva línea agregada desde el pyfile\n",
      "Esta es una nueva línea agregada desde el pyfile\n",
      "Esta es una nueva línea agregada desde el pyfile\n",
      "Esta es una nueva línea agregada desde el pyfile\n",
      "\n"
     ]
    }
   ],
   "source": [
    "with open(FILE_path, \"r\") as file_txt:\n",
    "    print(file_txt.read())"
   ]
  },
  {
   "attachments": {},
   "cell_type": "markdown",
   "metadata": {},
   "source": [
    "Podemos observar que con *w+* hemos cambiado el contenido del archivo a los elementos que hemos especificado en el `write()`\n",
    "* tener cuidado con esto porque se puede modificar un archivo entero"
   ]
  },
  {
   "cell_type": "code",
   "execution_count": null,
   "metadata": {},
   "outputs": [],
   "source": []
  }
 ],
 "metadata": {
  "kernelspec": {
   "display_name": "python_projects",
   "language": "python",
   "name": "python3"
  },
  "language_info": {
   "codemirror_mode": {
    "name": "ipython",
    "version": 3
   },
   "file_extension": ".py",
   "mimetype": "text/x-python",
   "name": "python",
   "nbconvert_exporter": "python",
   "pygments_lexer": "ipython3",
   "version": "3.9.12"
  },
  "orig_nbformat": 4
 },
 "nbformat": 4,
 "nbformat_minor": 2
}
