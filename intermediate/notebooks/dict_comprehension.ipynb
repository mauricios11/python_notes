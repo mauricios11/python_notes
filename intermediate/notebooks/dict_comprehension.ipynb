{
 "cells": [
  {
   "attachments": {},
   "cell_type": "markdown",
   "metadata": {},
   "source": [
    "## lista vs tupla vs conjunto\n",
    "Comparación  entre listas, tuplas y conjuntos, ventajas y desventajas\n",
    "\n",
    "**lista**\n",
    "* Es mutable (se pueden modificar sus valores una vez creada)\n",
    "* Ordenada (sus elementos pueden estar ordenados)\n",
    "* se pueden hacer slices\n",
    "* permite  elementos duplicados dentro de la lista\n",
    "\n",
    "**tupla**\n",
    "* NO es mutable (útil para elementos que no se necesite modificar)\n",
    "* Ordenada (sus elementos pueden estar ordenados)\n",
    "* se pueden hacer slices\n",
    "* se pueden duplicar sus elementos\n",
    "\n",
    "**Conjunto (set)**\n",
    "* Es mutable\n",
    "* NO puede ordenarse \n",
    "* NO se pueden hace slices\n",
    "* NO se pueden duplicar sus elementos (útil para eliminar duplicados)"
   ]
  },
  {
   "attachments": {},
   "cell_type": "markdown",
   "metadata": {},
   "source": [
    "## Dict comprehension\n",
    "\n",
    "La sintaxis para genera un dict comprehension es casi igual que con una list. Pero hay algunas cosas a considerar.\n",
    "* dado que estamos trabajando con un diccionario, es importante definir cuáles valores serán las *keys* y cuáles serán las *values*\n",
    "  * esto se hará en la para donde se define la operación del iterador (al principio)\n",
    "\n",
    "sintaxis con un E/M:\n",
    "\n",
    "* `element_key : element_value`  $\\rightarrow$ *elemento key/value* \n",
    "    * de ser necesario, aquí también puede haber una operación que ocurra sobre este *iterador del value* $\\rightarrow$ `element * 2`\n",
    "* `var` $\\rightarrow$ *elemento iterador*\n",
    "* `for var in iterable` $\\rightarrow$ *ciclo donde se extraen elementos con un iterable* \n",
    "* `if element % 2 == 0` $\\rightarrow$ *condicional*\n",
    "\n",
    "se vería de la siguiente forma: \n",
    "\n",
    ">`{element : element * 2 for element in range(9) if element % 2 == 0}`\n",
    "\n",
    "   * Esta list comprehension se puede leer de la siguiente forma:\n",
    "     *  *\"dados los iteradores key / value* `element` *que estarán recorriendo un rango desde el 0 hasta el 8* (`range(9)`)*, si el residuo de dividir del iterador entre 2 es 0*(`element % 2 == 0`)*. Entonces multiplicar el interador • 2\"*(`element * 2`)"
   ]
  },
  {
   "cell_type": "code",
   "execution_count": 1,
   "metadata": {},
   "outputs": [],
   "source": [
    "import random"
   ]
  },
  {
   "cell_type": "code",
   "execution_count": null,
   "metadata": {},
   "outputs": [],
   "source": [
    "#sin dict comprehension\n",
    "dictionary_3= {}\n",
    "for var in range(9):\n",
    "    if var % 2 == 0:\n",
    "        dictionary_3[var] = var + 2\n",
    "    \n",
    "dictionary_3"
   ]
  },
  {
   "cell_type": "code",
   "execution_count": 40,
   "metadata": {},
   "outputs": [
    {
     "data": {
      "text/plain": [
       "{0: 2, 2: 4, 4: 6, 6: 8, 8: 10}"
      ]
     },
     "execution_count": 40,
     "metadata": {},
     "output_type": "execute_result"
    }
   ],
   "source": [
    "# con dict comprehension\n",
    "{element : element + 2 for element in range(9)if element % 2 == 0}"
   ]
  },
  {
   "cell_type": "code",
   "execution_count": 56,
   "metadata": {},
   "outputs": [
    {
     "data": {
      "text/plain": [
       "{'a': 12,\n",
       " 'b': 43,\n",
       " 'c': 35,\n",
       " 'd': 0,\n",
       " 'e': 44,\n",
       " 'f': 45,\n",
       " 'g': 10,\n",
       " 'h': 20,\n",
       " 'i': 98,\n",
       " 'j': 64,\n",
       " 'k': 39}"
      ]
     },
     "execution_count": 56,
     "metadata": {},
     "output_type": "execute_result"
    }
   ],
   "source": [
    "# crear un diccionario a partir de una lista y un número aleatorio\n",
    "string = list(\"abcdefghijk\")\n",
    "dictionary_4 = {}\n",
    "for letter in string:\n",
    "    dictionary_4[letter] = random.randint(0,100)\n",
    "    \n",
    "dictionary_4\n"
   ]
  },
  {
   "cell_type": "code",
   "execution_count": 64,
   "metadata": {},
   "outputs": [
    {
     "data": {
      "text/plain": [
       "{'a': 93,\n",
       " 'b': 100,\n",
       " 'c': 26,\n",
       " 'd': 8,\n",
       " 'e': 9,\n",
       " 'f': 71,\n",
       " 'g': 70,\n",
       " 'h': 53,\n",
       " 'i': 2,\n",
       " 'j': 1}"
      ]
     },
     "execution_count": 64,
     "metadata": {},
     "output_type": "execute_result"
    }
   ],
   "source": [
    "# list comprehension usando una lista\n",
    "string = list(\"abcdefghij\")\n",
    "\n",
    "dictionary_comprehension = {}\n",
    "{string[i] : random.randint(0,100) for i in range(len(string))}\n"
   ]
  },
  {
   "cell_type": "code",
   "execution_count": 65,
   "metadata": {},
   "outputs": [
    {
     "data": {
      "text/plain": [
       "{'a': 48,\n",
       " 'b': 44,\n",
       " 'c': 18,\n",
       " 'd': 95,\n",
       " 'e': 93,\n",
       " 'f': 58,\n",
       " 'g': 15,\n",
       " 'h': 41,\n",
       " 'i': 1,\n",
       " 'j': 44}"
      ]
     },
     "execution_count": 65,
     "metadata": {},
     "output_type": "execute_result"
    }
   ],
   "source": [
    "#otra forma de escribir el mismo dict comprehension\n",
    "{letter : random.randint(0,100) for letter in string}"
   ]
  },
  {
   "cell_type": "code",
   "execution_count": 77,
   "metadata": {},
   "outputs": [
    {
     "data": {
      "text/plain": [
       "{'Mauricio': 13, 'Mariana': 24, 'Juan': 33, 'Tomás': 46, 'Andrés': 534}"
      ]
     },
     "execution_count": 77,
     "metadata": {},
     "output_type": "execute_result"
    }
   ],
   "source": [
    "# usar dos listas para crear un diccionario\n",
    "names = ['Mauricio', 'Mariana', 'Juan', 'Tomás', 'Andrés']\n",
    "age = [13,24,33,46,534]\n",
    "age_1 = [13,24,33,46,534]\n",
    "\n",
    "personas = {}\n",
    "for i  in range(len(names)):\n",
    "    personas[names[i]] = age[i]  \n",
    "personas\n"
   ]
  },
  {
   "cell_type": "code",
   "execution_count": 73,
   "metadata": {},
   "outputs": [
    {
     "data": {
      "text/plain": [
       "{'Mauricio': 13, 'Mariana': 24, 'Juan': 33, 'Tomás': 46, 'Andrés': 534}"
      ]
     },
     "execution_count": 73,
     "metadata": {},
     "output_type": "execute_result"
    }
   ],
   "source": [
    "# usar dos listas para crear dict comprehension\n",
    "personas = {names[i]: age[i] for i in range(len(names))}\n",
    "personas"
   ]
  },
  {
   "attachments": {},
   "cell_type": "markdown",
   "metadata": {},
   "source": [
    "también hay otra forma de crear un diccionario a partir de dos listas: \n",
    "\n",
    "### zip( ): por medio de dos listas, hacer una lista de tuplas\n",
    "\n",
    "podemos usar la función `zip(lista_1, lista_2)` para unir dos ó más listas\n",
    "* nos dará un objeto. Para convertirlo a lista usamos `list(zip())`\n",
    "\n",
    "de la siguiente forma: `list(zip(names,  age, age_1))`\n"
   ]
  },
  {
   "attachments": {},
   "cell_type": "markdown",
   "metadata": {},
   "source": [
    "### crear un diccionario con listas *zippeadas*\n",
    "\n",
    "**1-** definir los elementos / operación a iterar $\\rightarrow$ `name age` \n",
    "\n",
    "* estas serán las iteradoras\n",
    "    \n",
    "**2-** definir el ciclo con las variables iteradoras $\\rightarrow$ `for name , age`\n",
    "\n",
    "* quienes iterarán sobre las listas *zipeadas* $\\rightarrow$ `zip(name , age)`\n",
    "\n",
    "de la siguiente forma: `{name : age for name , age in zip(name , age)}`"
   ]
  },
  {
   "cell_type": "code",
   "execution_count": 83,
   "metadata": {},
   "outputs": [
    {
     "data": {
      "text/plain": [
       "{'Mauricio': 13, 'Mariana': 24, 'Juan': 33, 'Tomás': 46, 'Andrés': 534}"
      ]
     },
     "execution_count": 83,
     "metadata": {},
     "output_type": "execute_result"
    }
   ],
   "source": [
    "zip_dict_comprehension = {names : age for names , age in zip(names , age)}\n",
    "zip_dict_comprehension"
   ]
  },
  {
   "attachments": {},
   "cell_type": "markdown",
   "metadata": {},
   "source": [
    "### Agrgando una condicional\n",
    "Al igual que con la list comprehension se coloca al final del statement, hay varias formas:\n",
    "\n",
    "* dict comprehension usando zip:\n",
    "\n",
    " `{lista_key : lista_value for lista_key , lista_value in zip(lista_key, lista_value) if lista_value < 10}`\n",
    "\n",
    "* invocar los items de un diccionario ya existente: \n",
    "\n",
    "`{lista_key : lista_value for lista_key , lista_value in dicccionario.items() if lista_value < 10}`"
   ]
  },
  {
   "cell_type": "code",
   "execution_count": 28,
   "metadata": {},
   "outputs": [
    {
     "data": {
      "text/plain": [
       "{'mex': 99, 'col': 81, 'bra': 88}"
      ]
     },
     "execution_count": 28,
     "metadata": {},
     "output_type": "execute_result"
    }
   ],
   "source": [
    "countries = [\"mex\", \"col\", \"arg\", \"chi\", \"bra\"]\n",
    "population = [random.randint(50, 100) for num in range(len(countries))]\n",
    "\n",
    "\n",
    "#método 1.2 dict comprehension usando zip\n",
    "dict_comp_condicional_zip = { countries : population for countries , population in zip(countries, population) if population >=70}\n",
    "\n",
    "#metodo 2 : invocar los items de un diccionario ya existente (con indentación)\n",
    "dict_comp_zip = { countries : population for countries , population in zip(countries, population)}\n",
    "\n",
    "dict_comp_conficional_items = {\n",
    "    countries : population \n",
    "    for (countries , population) in dict_comp_zip.items()\n",
    "    if population >= 70\n",
    "    }\n",
    "dict_comp_conficional_items\n",
    "\n",
    "\n"
   ]
  },
  {
   "cell_type": "code",
   "execution_count": 72,
   "metadata": {},
   "outputs": [
    {
     "ename": "ValueError",
     "evalue": "not enough values to unpack (expected 2, got 1)",
     "output_type": "error",
     "traceback": [
      "\u001b[0;31m---------------------------------------------------------------------------\u001b[0m",
      "\u001b[0;31mValueError\u001b[0m                                Traceback (most recent call last)",
      "\u001b[1;32m/Users/holamauricios/Documents/python_projects/python_projects/intermediate/notebooks/dict_comprehension.ipynb Celda 15\u001b[0m in \u001b[0;36m<cell line: 23>\u001b[0;34m()\u001b[0m\n\u001b[1;32m     <a href='vscode-notebook-cell:/Users/holamauricios/Documents/python_projects/python_projects/intermediate/notebooks/dict_comprehension.ipynb#X30sZmlsZQ%3D%3D?line=20'>21</a>\u001b[0m dict_vocales\n\u001b[1;32m     <a href='vscode-notebook-cell:/Users/holamauricios/Documents/python_projects/python_projects/intermediate/notebooks/dict_comprehension.ipynb#X30sZmlsZQ%3D%3D?line=21'>22</a>\u001b[0m contador \u001b[39m=\u001b[39m \u001b[39m0\u001b[39m\n\u001b[0;32m---> <a href='vscode-notebook-cell:/Users/holamauricios/Documents/python_projects/python_projects/intermediate/notebooks/dict_comprehension.ipynb#X30sZmlsZQ%3D%3D?line=22'>23</a>\u001b[0m {letra : letra\u001b[39m.\u001b[39mupper() \u001b[39mfor\u001b[39;00m letra, contador \u001b[39min\u001b[39;00m frase_limpia \u001b[39mif\u001b[39;00m letra \u001b[39min\u001b[39;00m vocales}\n",
      "\u001b[1;32m/Users/holamauricios/Documents/python_projects/python_projects/intermediate/notebooks/dict_comprehension.ipynb Celda 15\u001b[0m in \u001b[0;36m<dictcomp>\u001b[0;34m(.0)\u001b[0m\n\u001b[1;32m     <a href='vscode-notebook-cell:/Users/holamauricios/Documents/python_projects/python_projects/intermediate/notebooks/dict_comprehension.ipynb#X30sZmlsZQ%3D%3D?line=20'>21</a>\u001b[0m dict_vocales\n\u001b[1;32m     <a href='vscode-notebook-cell:/Users/holamauricios/Documents/python_projects/python_projects/intermediate/notebooks/dict_comprehension.ipynb#X30sZmlsZQ%3D%3D?line=21'>22</a>\u001b[0m contador \u001b[39m=\u001b[39m \u001b[39m0\u001b[39m\n\u001b[0;32m---> <a href='vscode-notebook-cell:/Users/holamauricios/Documents/python_projects/python_projects/intermediate/notebooks/dict_comprehension.ipynb#X30sZmlsZQ%3D%3D?line=22'>23</a>\u001b[0m {letra : letra\u001b[39m.\u001b[39mupper() \u001b[39mfor\u001b[39;00m letra, contador \u001b[39min\u001b[39;00m frase_limpia \u001b[39mif\u001b[39;00m letra \u001b[39min\u001b[39;00m vocales}\n",
      "\u001b[0;31mValueError\u001b[0m: not enough values to unpack (expected 2, got 1)"
     ]
    }
   ],
   "source": [
    "# generar un diccionario con las vocales de una frase\n",
    "frase = \"Hola, hoy es un buen día\"\n",
    "frase = frase.lower().replace(\" \", \"\").replace(\",\", \"\")\n",
    "vocales = \"aeiou\"\n",
    "\n",
    "def limpiar_acentos(texto):\n",
    "\tacentos = {'á': 'a', 'é': 'e', 'í': 'i', 'ó': 'o', 'ú': 'u'}\n",
    "\tfor acen in acentos:\n",
    "\t\tif acen in texto:\n",
    "\t\t\ttexto = texto.replace(acen, acentos[acen])\n",
    "    \n",
    "\treturn list(texto)\n",
    "\n",
    "frase_limpia = limpiar_acentos(frase)\n",
    "\n",
    "dict_vocales = dict.fromkeys(vocales , 0)\n",
    "for letter in frase_limpia:\n",
    "    if letter in vocales:\n",
    "        dict_vocales[letter] += 1\n",
    "        \n",
    "dict_vocales\n",
    "contador = 0\n",
    "{letra : letra.upper() for letra, contador in frase_limpia if letra in vocales}\n",
    "\n",
    "      \n",
    "\n",
    "\n",
    "\n",
    "\n",
    "    \n",
    "        \n",
    "        "
   ]
  },
  {
   "cell_type": "code",
   "execution_count": 42,
   "metadata": {},
   "outputs": [
    {
     "data": {
      "text/plain": [
       "{0: 2, 2: 4, 4: 6, 6: 8, 8: 10}"
      ]
     },
     "execution_count": 42,
     "metadata": {},
     "output_type": "execute_result"
    }
   ],
   "source": [
    "# otras formas de hacer un diccionacio sin dict comprehension\n",
    "\n",
    "#método 1\n",
    "dictionary_1 = {}\n",
    "list_1 = [element * 2 for element in range(1,11)]\n",
    "list_2= list(\"abcefghijk\")\n",
    "\n",
    "for var in range(0,10):\n",
    "    dictionary_1[list_2[var]] = list_1[var]   \n",
    "dictionary_1\n",
    "\n",
    "# método 2\n",
    "dictionary_2 = {}\n",
    "string = list(\"abcdefghijk\")\n",
    "j = 0\n",
    "for i in range(len(string)-6): # -6 para que sólo salgan 5 elementos (el total es 10)\n",
    "    dictionary_2[string[i]] = j * 2\n",
    "    j += 1\n",
    "    \n",
    "dictionary_2\n",
    "\n",
    "#método 3\n",
    "dictionary_3= {}\n",
    "for var in range(9):\n",
    "    if var % 2 == 0:\n",
    "        dictionary_3[var] = var + 2\n",
    "    \n",
    "dictionary_3\n"
   ]
  },
  {
   "cell_type": "code",
   "execution_count": null,
   "metadata": {},
   "outputs": [],
   "source": []
  },
  {
   "cell_type": "code",
   "execution_count": 9,
   "metadata": {},
   "outputs": [
    {
     "data": {
      "text/plain": [
       "{'∂': 1, 'aa': 3, 'aaa': 4, 'aaaa': 5, 'aaaaa': 6, 'aaaaaa': 7}"
      ]
     },
     "execution_count": 9,
     "metadata": {},
     "output_type": "execute_result"
    }
   ],
   "source": [
    "#sin dict comprehension\n",
    "lista_a = []\n",
    "for i in range(6):\n",
    "    lista_a.append(i)\n",
    "    \n",
    "lista_a\n",
    "\n",
    "dict_a = {}\n",
    "for var in range(6):\n",
    "    if var * 'a' == '':\n",
    "        dict_a['∂'] = 1\n",
    "    else:\n",
    "        dict_a['a' * var] = var + 2   \n",
    "dict_a\n",
    "    \n"
   ]
  },
  {
   "cell_type": "code",
   "execution_count": 10,
   "metadata": {},
   "outputs": [
    {
     "data": {
      "text/plain": [
       "{'a': 2, 'aa': 3, 'aaa': 4, 'aaaa': 5, 'aaaaa': 6, 'aaaaaa': 7}"
      ]
     },
     "execution_count": 10,
     "metadata": {},
     "output_type": "execute_result"
    }
   ],
   "source": [
    "# con dict comprehension\n",
    "dict_b = {(var + 1) * 'a' : var + 2 for var in range(6)}\n",
    "dict_b"
   ]
  },
  {
   "cell_type": "code",
   "execution_count": 25,
   "metadata": {},
   "outputs": [
    {
     "ename": "TypeError",
     "evalue": "list indices must be integers or slices, not tuple",
     "output_type": "error",
     "traceback": [
      "\u001b[0;31m---------------------------------------------------------------------------\u001b[0m",
      "\u001b[0;31mTypeError\u001b[0m                                 Traceback (most recent call last)",
      "\u001b[1;32m/Users/holamauricios/Documents/python_projects/python_projects/intermediate/notebooks/dict_comprehension.ipynb Celda 17\u001b[0m in \u001b[0;36m<cell line: 13>\u001b[0;34m()\u001b[0m\n\u001b[1;32m     <a href='vscode-notebook-cell:/Users/holamauricios/Documents/python_projects/python_projects/intermediate/notebooks/dict_comprehension.ipynb#X22sZmlsZQ%3D%3D?line=11'>12</a>\u001b[0m \u001b[39mlist\u001b[39m(\u001b[39mzip\u001b[39m(lista_c , lista_d))\n\u001b[1;32m     <a href='vscode-notebook-cell:/Users/holamauricios/Documents/python_projects/python_projects/intermediate/notebooks/dict_comprehension.ipynb#X22sZmlsZQ%3D%3D?line=12'>13</a>\u001b[0m \u001b[39mfor\u001b[39;00m letter \u001b[39min\u001b[39;00m \u001b[39mlist\u001b[39m(\u001b[39mzip\u001b[39m(lista_c , lista_d)):\n\u001b[0;32m---> <a href='vscode-notebook-cell:/Users/holamauricios/Documents/python_projects/python_projects/intermediate/notebooks/dict_comprehension.ipynb#X22sZmlsZQ%3D%3D?line=13'>14</a>\u001b[0m     dict_e[lista_c[letter]] \u001b[39m=\u001b[39m lista_d[letter]\n\u001b[1;32m     <a href='vscode-notebook-cell:/Users/holamauricios/Documents/python_projects/python_projects/intermediate/notebooks/dict_comprehension.ipynb#X22sZmlsZQ%3D%3D?line=15'>16</a>\u001b[0m dict_e\n",
      "\u001b[0;31mTypeError\u001b[0m: list indices must be integers or slices, not tuple"
     ]
    }
   ],
   "source": [
    "# crear un diccionario a partir de una lista y un número aleatorio\n",
    "lista_c = \"abcde\"\n",
    "\n",
    "dict_c = {}\n",
    "for i in range(len(lista_c)):\n",
    "    dict_c[lista_c[i]] = random.randint(0,100)\n",
    "    \n",
    "dict_c\n",
    "\n",
    "\n",
    "\n"
   ]
  },
  {
   "cell_type": "code",
   "execution_count": 21,
   "metadata": {},
   "outputs": [
    {
     "data": {
      "text/plain": [
       "{'a': 87, 'b': 94, 'c': 96, 'd': 53, 'e': 40}"
      ]
     },
     "execution_count": 21,
     "metadata": {},
     "output_type": "execute_result"
    }
   ],
   "source": [
    "# list comprehension usando dos lista\n",
    "\n",
    "lista_d = [random.randint(0,100)for num in range(len(lista_c))]\n",
    "\n",
    "{lista_c[i] : lista_d[i] for i in range(len(lista_c))}\n"
   ]
  },
  {
   "cell_type": "code",
   "execution_count": 35,
   "metadata": {},
   "outputs": [
    {
     "data": {
      "text/plain": [
       "{'médico': 65, 'youtuber': 86, 'ingeniero': 45, 'publicista': 82, 'tester': 65}"
      ]
     },
     "execution_count": 35,
     "metadata": {},
     "output_type": "execute_result"
    }
   ],
   "source": [
    "#otra forma de escribir el mismo dict comprehension\n",
    "profesiones = ['médico', 'youtuber', 'ingeniero', 'publicista', 'tester']\n",
    "age = [random.randint(0,90) for i in range(len(profesiones)) ]\n",
    "\n",
    "{ profesiones: age for profesiones , age in zip(profesiones , age)}"
   ]
  }
 ],
 "metadata": {
  "kernelspec": {
   "display_name": "python_projects",
   "language": "python",
   "name": "python3"
  },
  "language_info": {
   "codemirror_mode": {
    "name": "ipython",
    "version": 3
   },
   "file_extension": ".py",
   "mimetype": "text/x-python",
   "name": "python",
   "nbconvert_exporter": "python",
   "pygments_lexer": "ipython3",
   "version": "3.9.12"
  },
  "orig_nbformat": 4,
  "vscode": {
   "interpreter": {
    "hash": "2b3cdd43dca43692c1c9cfb45dd0231ab5908d4ab72dff2a1a694a90031f8401"
   }
  }
 },
 "nbformat": 4,
 "nbformat_minor": 2
}
