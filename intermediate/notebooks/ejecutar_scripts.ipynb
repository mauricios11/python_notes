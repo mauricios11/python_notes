{
 "cells": [
  {
   "attachments": {},
   "cell_type": "markdown",
   "metadata": {},
   "source": [
    "## Módulos importantes"
   ]
  },
  {
   "attachments": {},
   "cell_type": "markdown",
   "metadata": {},
   "source": [
    "collections:"
   ]
  },
  {
   "cell_type": "code",
   "execution_count": 2,
   "metadata": {},
   "outputs": [],
   "source": [
    "import collections\n",
    "numeros = [1, 1, 1, 2, 2, 33, 4, 55, 6, 6, 6, 7, 7, 8,7, 5, 4, 5, 8, 5, 9]"
   ]
  },
  {
   "cell_type": "code",
   "execution_count": 3,
   "metadata": {},
   "outputs": [],
   "source": [
    "cuantos_numeros = collections.Counter(numeros)"
   ]
  },
  {
   "cell_type": "code",
   "execution_count": 4,
   "metadata": {},
   "outputs": [
    {
     "data": {
      "text/plain": [
       "Counter({1: 3, 2: 2, 33: 1, 4: 2, 55: 1, 6: 3, 7: 3, 8: 2, 5: 3, 9: 1})"
      ]
     },
     "execution_count": 4,
     "metadata": {},
     "output_type": "execute_result"
    }
   ],
   "source": [
    "cuantos_numeros"
   ]
  },
  {
   "attachments": {},
   "cell_type": "markdown",
   "metadata": {},
   "source": [
    "time: "
   ]
  },
  {
   "cell_type": "code",
   "execution_count": 5,
   "metadata": {},
   "outputs": [
    {
     "data": {
      "text/plain": [
       "1678060231.622275"
      ]
     },
     "execution_count": 5,
     "metadata": {},
     "output_type": "execute_result"
    }
   ],
   "source": [
    "import time\n",
    "tiempo_logico = time.time()\n",
    "tiempo_logico"
   ]
  },
  {
   "cell_type": "code",
   "execution_count": 6,
   "metadata": {},
   "outputs": [
    {
     "data": {
      "text/plain": [
       "str"
      ]
     },
     "execution_count": 6,
     "metadata": {},
     "output_type": "execute_result"
    }
   ],
   "source": [
    "tiempo_actual = time.localtime()\n",
    "type(time.asctime(tiempo_actual))"
   ]
  },
  {
   "attachments": {},
   "cell_type": "markdown",
   "metadata": {},
   "source": [
    "sys:"
   ]
  },
  {
   "cell_type": "code",
   "execution_count": 7,
   "metadata": {},
   "outputs": [
    {
     "data": {
      "text/plain": [
       "['/Users/holamauricios/Documents/python_projects/python_projects/intermediate/notebooks',\n",
       " '/Users/holamauricios/anaconda3/envs/python_projects/lib/python39.zip',\n",
       " '/Users/holamauricios/anaconda3/envs/python_projects/lib/python3.9',\n",
       " '/Users/holamauricios/anaconda3/envs/python_projects/lib/python3.9/lib-dynload',\n",
       " '',\n",
       " '/Users/holamauricios/anaconda3/envs/python_projects/lib/python3.9/site-packages']"
      ]
     },
     "execution_count": 7,
     "metadata": {},
     "output_type": "execute_result"
    }
   ],
   "source": [
    "import sys\n",
    "sys.path"
   ]
  },
  {
   "attachments": {},
   "cell_type": "markdown",
   "metadata": {},
   "source": [
    "## Corriendo scripts\n",
    "\n",
    "Para leer un archivo.py podemos ejecutarlo directamente desde la terminal ó si está modularizado (código dividido en partes), podemos correrlo desde otro archivo\n",
    "\n",
    "Algunas veces esta dualidad puede causar errores si queremos hacer las dos cosas: \n",
    "* correrlo como un módulo importado\n",
    "* y directamente desde la consola\n",
    "\n",
    "se estará trabajando con los archivos de la carpeta: *utils_app*\n",
    "\n",
    "\n",
    "\n"
   ]
  },
  {
   "cell_type": "code",
   "execution_count": 26,
   "metadata": {},
   "outputs": [],
   "source": [
    "import os\n",
    "CURRENT_DIR = os.getcwd()\n",
    "# enlace a la carpeta deseada\n",
    "SCRIPT_DIR = os.path.join(CURRENT_DIR, os.pardir, \"utils_app\")"
   ]
  },
  {
   "cell_type": "code",
   "execution_count": 27,
   "metadata": {},
   "outputs": [
    {
     "data": {
      "text/plain": [
       "'/Users/holamauricios/Documents/python_projects/python_projects/intermediate/notebooks/../utils_app'"
      ]
     },
     "execution_count": 27,
     "metadata": {},
     "output_type": "execute_result"
    }
   ],
   "source": [
    "SCRIPT_DIR"
   ]
  },
  {
   "cell_type": "code",
   "execution_count": 10,
   "metadata": {},
   "outputs": [
    {
     "data": {
      "text/plain": [
       "['/Users/holamauricios/Documents/python_projects/python_projects/intermediate/notebooks/../utils_app/__pycache__',\n",
       " '/Users/holamauricios/Documents/python_projects/python_projects/intermediate/notebooks/../utils_app/utils.py',\n",
       " '/Users/holamauricios/Documents/python_projects/python_projects/intermediate/notebooks/../utils_app/corriendo_scripts.py',\n",
       " '/Users/holamauricios/Documents/python_projects/python_projects/intermediate/notebooks/../utils_app/main.py']"
      ]
     },
     "execution_count": 10,
     "metadata": {},
     "output_type": "execute_result"
    }
   ],
   "source": [
    "# verificando contenido de la carpeta \"utils_app\"\n",
    "[os.path.join(SCRIPT_DIR, item) for item in os.listdir(SCRIPT_DIR)]"
   ]
  },
  {
   "cell_type": "code",
   "execution_count": 28,
   "metadata": {},
   "outputs": [],
   "source": [
    "import sys"
   ]
  },
  {
   "cell_type": "code",
   "execution_count": 29,
   "metadata": {},
   "outputs": [],
   "source": [
    "# lo saqué de stack overflow  :D\n",
    "sys.path.insert(0, SCRIPT_DIR)"
   ]
  },
  {
   "cell_type": "code",
   "execution_count": 48,
   "metadata": {},
   "outputs": [],
   "source": [
    "import main\n",
    "import utils"
   ]
  },
  {
   "cell_type": "code",
   "execution_count": 44,
   "metadata": {},
   "outputs": [
    {
     "data": {
      "text/plain": [
       "(['col', 'mex', 'bra', 'arg'], [300, 100, 400, 500])"
      ]
     },
     "execution_count": 44,
     "metadata": {},
     "output_type": "execute_result"
    }
   ],
   "source": [
    "utils.get_population()"
   ]
  },
  {
   "cell_type": "code",
   "execution_count": 49,
   "metadata": {},
   "outputs": [
    {
     "data": {
      "text/plain": [
       "[{'Country': 'Colombia', 'population': 300},\n",
       " {'Country': 'México', 'population': 400},\n",
       " {'Country': 'Brasil', 'population': 500},\n",
       " {'Country': 'Uruguay', 'population': 600}]"
      ]
     },
     "execution_count": 49,
     "metadata": {},
     "output_type": "execute_result"
    }
   ],
   "source": [
    "main.data"
   ]
  },
  {
   "attachments": {},
   "cell_type": "markdown",
   "metadata": {},
   "source": [
    "### abrir / ejecutar un script.py desde otro archivo, y desde la terminal\n",
    "Podemos usar `if __name__ == '__main__':` para especificar que:\n",
    "* si este archivo es ejecutado desde la terminal. se ejecute su contenido "
   ]
  },
  {
   "cell_type": "code",
   "execution_count": null,
   "metadata": {},
   "outputs": [],
   "source": []
  }
 ],
 "metadata": {
  "kernelspec": {
   "display_name": "python_projects",
   "language": "python",
   "name": "python3"
  },
  "language_info": {
   "codemirror_mode": {
    "name": "ipython",
    "version": 3
   },
   "file_extension": ".py",
   "mimetype": "text/x-python",
   "name": "python",
   "nbconvert_exporter": "python",
   "pygments_lexer": "ipython3",
   "version": "3.9.12"
  },
  "orig_nbformat": 4
 },
 "nbformat": 4,
 "nbformat_minor": 2
}
