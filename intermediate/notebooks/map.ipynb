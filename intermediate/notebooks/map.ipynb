{
 "cells": [
  {
   "attachments": {},
   "cell_type": "markdown",
   "metadata": {},
   "source": [
    "## map , filter , reduce \n",
    "Estas son funciones built-in de python. Su finalidad es hacer transformaciones a una lista \n",
    "\n",
    "Al transformar una lista por medio de *map / filter / reduce* \n",
    "* Dado que solo se están transformando los elementos, su cantidad **no cambia**. Lo que sí cambia es el valor de estos\n",
    "  * la excepción es `reduce()` en este caso los valores de una lista se reducen a uno solo"
   ]
  },
  {
   "attachments": {},
   "cell_type": "markdown",
   "metadata": {},
   "source": [
    "### map( )\n",
    "esta funcion permite modificar una lista, sus argumentos serían:\n",
    "* la operación que queremos hacer a los elementos para cambiar su valor\n",
    "* la lista a la que queremos  hacer esta modificación\n",
    "\n",
    "#### Usando map( ) en una función lambda\n",
    "para aplicar esta función con una lambda, lo que debemos hacer es:\n",
    "* definir la función `map()` y dentro de ella:\n",
    "  * colocamos la función lambda\n",
    "  * especificamos la lista\n",
    "\n",
    "  de la siguiente forma: `map(lambda variable_iteradora : operación con la iteradora , lista)`\n",
    "\n",
    "* es importante aclarar que `map()` nos develve un iterable\n",
    "  * para poder visualizar el resultado hay que pasarlo a una lista\n",
    "\n",
    "\n",
    "`lista = [1, 2, 3, 4, 5, 6]`\n",
    "\n",
    "`lambda_map = list(map(lambda x : x *2 , lista))`"
   ]
  },
  {
   "cell_type": "code",
   "execution_count": 11,
   "metadata": {},
   "outputs": [
    {
     "data": {
      "text/plain": [
       "[2, 4, 6, 8, 10, 12]"
      ]
     },
     "execution_count": 11,
     "metadata": {},
     "output_type": "execute_result"
    }
   ],
   "source": [
    "# dada una lista: por medio de un ciclo agregamos sus elementos a una lista nueva. Pero multiplicados por 2\n",
    "lista_0 = [1, 2, 3, 4, 5, 6]\n",
    "lista_1 = []\n",
    "\n",
    "for x in lista_0:\n",
    "    lista_1.append(x *2)\n",
    "lista_1\n",
    "\n",
    "# podemos hacer esto mismo por medio de la función map() + lambda\n",
    "\n",
    "lista_map_lambda = map(lambda x : x *2 , lista_0 )\n",
    "\n",
    "list(lista_map_lambda)\n"
   ]
  },
  {
   "attachments": {},
   "cell_type": "markdown",
   "metadata": {},
   "source": [
    "Usando `map(lambda)` con dos listas en vez de una\n",
    "* las listas serán de un largo diferente"
   ]
  },
  {
   "cell_type": "code",
   "execution_count": 47,
   "metadata": {},
   "outputs": [
    {
     "name": "stdout",
     "output_type": "stream",
     "text": [
      " lista de números del 1 al 10 multiplicados por 2: ---------------------------- [2, 4, 6, 8, 10, 12, 14, 16, 18, 20]\n",
      " \n",
      " lista de números del 1 al 20 sumándoles 1 y agregando sólo los múltiplos de 3: [4, 7, 10, 13, 16, 19]\n",
      " \n",
      "\n",
      " lista hecha de la suma de dos (listas + 1) con map: ---------------------------[8, 13, 18, 23, 28, 33]\n"
     ]
    }
   ],
   "source": [
    "lista_a =[ i * 2 for i in range(1, 11)]\n",
    "lista_b = [i + 1 for i in range(1, 21) if i % 3 == 0]\n",
    "\n",
    "lista_c_map = list(map(lambda i , j  : (i+1) + (j+1), lista_a , lista_b ))\n",
    "print(f' lista de números del 1 al 10 multiplicados por 2: ---------------------------- {lista_a}')\n",
    "print(f' \\n lista de números del 1 al 20 sumándoles 1 y agregando sólo los múltiplos de 3: {lista_b}')\n",
    "print(f' \\n\\n lista hecha de la suma de dos (listas + 1) con map: ---------------------------{lista_c_map}')\n",
    "\n"
   ]
  },
  {
   "attachments": {},
   "cell_type": "markdown",
   "metadata": {},
   "source": [
    "Podemos observar que hemos obtenido una lista del mismo largo que la más corta\n",
    "* la razón de esto es porque `lista_b` ya no tiene elementos para operar con `lista_a`\n",
    "\n",
    "Al operar con dos listas de largo diferente. El resultado será  una lista con el largo de la más pequeña"
   ]
  },
  {
   "attachments": {},
   "cell_type": "markdown",
   "metadata": {},
   "source": [
    "*sumar dos listas, si no hay elementos para sumar. agregar el valor sin operar para lograr una lista con el largo de la más grande*"
   ]
  },
  {
   "cell_type": "code",
   "execution_count": 61,
   "metadata": {},
   "outputs": [
    {
     "data": {
      "text/plain": [
       "[4, 7, 10, 13, 16, 19, 0, 0, 0, 0]"
      ]
     },
     "execution_count": 61,
     "metadata": {},
     "output_type": "execute_result"
    }
   ],
   "source": [
    "lista_a = [ i * 2 for i in range(1, 11)]\n",
    "lista_b = [i + 1 for i in range(1, 21) if i % 3 == 0]\n",
    "\n",
    "# dado que ambas listas tienen largo distinto, agregamos un \"0\" para llenar este espacio\n",
    "for i in lista_a:\n",
    "    if len(lista_b) < len(lista_a):\n",
    "        lista_b.append(0)\n",
    "        \n",
    "# el mismo statement, pero usando list comprehension        \n",
    "#[lista_b.append(0) for i in lista_a if len(lista_b) < len(lista_a)]\n",
    "\n",
    "# usamos map para sumar ambas listas en una nueva\n",
    "lista_d = map(lambda i , j : i + j , lista_a , lista_b)\n",
    "list(lista_d)\n"
   ]
  },
  {
   "attachments": {},
   "cell_type": "markdown",
   "metadata": {},
   "source": [
    "### map con diccionarios"
   ]
  },
  {
   "cell_type": "code",
   "execution_count": 96,
   "metadata": {},
   "outputs": [
    {
     "data": {
      "text/plain": [
       "[{'product': 'camisa', 'price': 100},\n",
       " {'product': 'pantalones', 'price': 200},\n",
       " {'product': 'calcetines', 'price': 10}]"
      ]
     },
     "execution_count": 96,
     "metadata": {},
     "output_type": "execute_result"
    }
   ],
   "source": [
    "#crear un diccionario a partir de dos listas usando dos métodos distintos\n",
    "key_list_0 = [\"product\", \"price\"]\n",
    "value_list_0 = [\"camisa\", 100]\n",
    "\n",
    "key_list_1 = [\"product\", \"price\"]\n",
    "value_list_1 = [\"pantalones\", 200]\n",
    "\n",
    "key_list_2 = [\"product\" , \"price\"]\n",
    "value_list_2 = [\"calcetines\", 10]\n",
    "\n",
    "items_0 = {key_list_0 : value_list_0 for key_list_0 , value_list_0 in zip(key_list_0, value_list_0)} \n",
    "items_1 = {key_list_1[i]: value_list_1[i] for i in range(len(key_list_1))}\n",
    "items_2 = {key_list_2 : value_list_2 for key_list_2 , value_list_2 in zip(key_list_2, value_list_2)}\n",
    "\n",
    "#crear una lista con los diccionarios que acabamos de crear\n",
    "all_items_list = [items_0 , items_1, items_2]\n",
    "all_items_list"
   ]
  },
  {
   "cell_type": "markdown",
   "metadata": {},
   "source": [
    "Teniendo una lista de diccionarios, donde está el producto y los precios. Hacer otra lista solo con los precios\n",
    "\n",
    "* Para ello hacemos un **map( )** *esta es la razón por la que tenemos una lista de diccionarios*\n",
    "\n",
    "  * dentro del map indicamos que: de cada diccionario en la lista, tomemos el *value* del *key* \"price\"\n",
    "   así:\n",
    "   \n",
    "   `lambda iterador: iterador[\"key_deseada\"], lista`"
   ]
  },
  {
   "cell_type": "code",
   "execution_count": 95,
   "metadata": {},
   "outputs": [
    {
     "data": {
      "text/plain": [
       "[100, 200, 10]"
      ]
     },
     "execution_count": 95,
     "metadata": {},
     "output_type": "execute_result"
    }
   ],
   "source": [
    "precios = list(map(lambda item: item[\"price\"], all_items_list))\n",
    "precios"
   ]
  },
  {
   "attachments": {},
   "cell_type": "markdown",
   "metadata": {},
   "source": [
    "##### agregar un nuevo *key / value* a cada diccionario de la lista\n",
    "* este será \"taxes\"\n",
    "\n",
    "en este caso no podremos usar *lambda* porque estas se definen en una sola línea.\n",
    "* se necesita: tener el item, agregarlo al elemento y retornalo\n",
    "  * eso implica más de dos líneas\n",
    "\n",
    "**1-** Lo resolveremos con una función normal que reciva a la lista de diccionarios como argumento\n",
    "\n",
    "**2-** implementada la función, la agregaremos como argumento al `map()` junto con la lista con los elementos originales\n",
    "\n",
    "##### problema con la implementación de map( )\n",
    "\n",
    "Hay que tener cuidado con este tipo de modificaciones. `map()` es  una función que modifica el estado del array\n",
    "  * *si no que crea una nuevo, corremos peligro de que se esté modificando todo el array original, y no generando uno nuevo*\n",
    "  * * *esto puede traer varios problemas si no es el comportamiento esperado* \n",
    "\n",
    "  * Este problema tiene que ver con la referencia en memoria que tiene el diccionario en el caché de la computadora\n",
    "\n",
    "##### solución\n",
    "hacer un `copy()` de la lista original"
   ]
  },
  {
   "cell_type": "code",
   "execution_count": 123,
   "metadata": {},
   "outputs": [
    {
     "name": "stdout",
     "output_type": "stream",
     "text": [
      " lista de diccionarios original: \n",
      "\n",
      "[{'product': 'camisa', 'price': 100}, {'product': 'pantalones', 'price': 200}, {'product': 'calcetines', 'price': 10}] \n",
      "\n",
      "\n",
      " lista de diccionarios con los impuestos : \n",
      "\n",
      " [{'product': 'camisa', 'price': 100, 'taxes': 19.0}, {'product': 'pantalones', 'price': 200, 'taxes': 38.0}, {'product': 'calcetines', 'price': 10, 'taxes': 1.9}]\n"
     ]
    }
   ],
   "source": [
    "# la función recibe como parámetro a la lista de diccionarios original\n",
    "def add_taxes(all_items_list):\n",
    "    all_items_list_tax = all_items_list.copy()\n",
    "    tax = 0.19\n",
    "    all_items_list_tax[\"taxes\"] = all_items_list_tax[\"price\"] * tax\n",
    "    return all_items_list_tax\n",
    "\n",
    "all_items_list_tax = list(map(add_taxes, all_items_list))\n",
    "\n",
    "print(f' lista de diccionarios original: \\n\\n{all_items_list} \\n')\n",
    "print(f'\\n lista de diccionarios con los impuestos : \\n\\n {all_items_list_tax}')"
   ]
  },
  {
   "cell_type": "code",
   "execution_count": 129,
   "metadata": {},
   "outputs": [
    {
     "name": "stdout",
     "output_type": "stream",
     "text": [
      " lista de diccionarios original: \n",
      "\n",
      "[{'producto': 'camisa', 'precio': 100, 'taxes': 19.0}, {'producto': 'pantalones', 'precio': 200, 'taxes': 38.0}, {'producto': 'calcetines', 'precio': 10, 'taxes': 1.9}] \n",
      "\n",
      "\n",
      " lista de diccionarios con los impuestos : \n",
      "\n",
      " [{'producto': 'camisa', 'precio': 100, 'taxes': 19.0}, {'producto': 'pantalones', 'precio': 200, 'taxes': 38.0}, {'producto': 'calcetines', 'precio': 10, 'taxes': 1.9}]\n",
      " \n",
      "\n",
      " solo los precios: [100, 200, 10]\n"
     ]
    }
   ],
   "source": [
    "#lo mismo que lo anterior, pero esta vez se hace el copy() desde afuera de la función \n",
    "item = [\n",
    "    {'producto': \"camisa\", \"precio\": 100}, \n",
    "    {'producto' : \"pantalones\", \"precio\" : 200},\n",
    "    {'producto' : \"calcetines\", \"precio\" : 10}\n",
    "    ]\n",
    " \n",
    "precios = list(map(lambda item : item[\"precio\"], item))\n",
    "\n",
    "new_item = item.copy()\n",
    "#toma como parámetro la nueva lista de dict's\n",
    "def add_taxes(new_item): \n",
    "    tax = 0.19\n",
    "    new_item['taxes'] = new_item['precio'] * tax  \n",
    "    return new_item\n",
    "\n",
    "new_dict = list(map(add_taxes , item))\n",
    "\n",
    "print(f' lista de diccionarios original: \\n\\n{item} \\n')\n",
    "print(f'\\n lista de diccionarios con los impuestos : \\n\\n {new_dict}')\n",
    "print(f' \\n\\n solo los precios: {precios}')"
   ]
  },
  {
   "attachments": {},
   "cell_type": "markdown",
   "metadata": {},
   "source": [
    "## filter( )\n",
    "Con esta función podremos filtrar algunos elementos de una lista para colocarlos en una nueva\n",
    "* Dado que se están filtrando elementos de una lista. No será posible obtener más elementos que  el número de elementos de la lista original\n"
   ]
  },
  {
   "cell_type": "code",
   "execution_count": 142,
   "metadata": {},
   "outputs": [
    {
     "data": {
      "text/plain": [
       "[2, 4, 6, 8, 10]"
      ]
     },
     "execution_count": 142,
     "metadata": {},
     "output_type": "execute_result"
    }
   ],
   "source": [
    "#crear una lista de números pares\n",
    "numbers_1 = []\n",
    "for n in range(1, 11):\n",
    "    if n % 2 == 0:\n",
    "        numbers_1.append(n)\n",
    "        \n",
    "# otra manera de hacerlo: list comprehension\n",
    "numbers_0 = [i  for i in range(1, 10) if i % 2 == 0]\n",
    "\n",
    "# usando filter\n",
    "numbers_1 = list(filter(lambda num : num % 2 == 0, range(1, 11)))\n",
    "numbers_1\n"
   ]
  },
  {
   "attachments": {},
   "cell_type": "markdown",
   "metadata": {},
   "source": [
    "filter con diccionarios"
   ]
  },
  {
   "cell_type": "code",
   "execution_count": 152,
   "metadata": {},
   "outputs": [
    {
     "name": "stdout",
     "output_type": "stream",
     "text": [
      " partidas con equipos locales ganadores: \n",
      "\n",
      "[{'home_team': 'Bolivia', 'away_team': 'Uruguay', 'home_team_score': 3, 'away_team_score': 1, 'home_team_result': 'Win'}, {'home_team': 'Ecuador', 'away_team': 'Venezuela', 'home_team_score': 5, 'away_team_score': 0, 'home_team_result': 'Win'}]\n",
      " \n",
      " lista completa: \n",
      " \n",
      " [{'home_team': 'Bolivia', 'away_team': 'Uruguay', 'home_team_score': 3, 'away_team_score': 1, 'home_team_result': 'Win'}, {'home_team': 'Brazil', 'away_team': 'Mexico', 'home_team_score': 1, 'away_team_score': 1, 'home_team_result': 'Draw'}, {'home_team': 'Ecuador', 'away_team': 'Venezuela', 'home_team_score': 5, 'away_team_score': 0, 'home_team_result': 'Win'}]\n",
      " \n",
      "\n",
      " len de la lista de equipos ganadores locales: \"2\" len de la lista completa: \"3\"\n"
     ]
    }
   ],
   "source": [
    "# de una lista de diccionarios de resultados de partidas de un deporte, \n",
    "# filtar sólo las partidas donde el equipo local es el ganador\n",
    "matches = [\n",
    "  {'home_team': 'Bolivia','away_team': 'Uruguay', 'home_team_score': 3, 'away_team_score': 1,\n",
    "   'home_team_result': 'Win'},\n",
    "  \n",
    "  {'home_team': 'Brazil', 'away_team': 'Mexico', 'home_team_score': 1, 'away_team_score': 1,\n",
    "    'home_team_result': 'Draw'},\n",
    "  \n",
    "  {'home_team': 'Ecuador','away_team': 'Venezuela', 'home_team_score': 5, 'away_team_score': 0,\n",
    "    'home_team_result': 'Win'},\n",
    "]\n",
    "\n",
    "winners = list(filter(lambda item: item['home_team_result'] == \"Win\", matches ))\n",
    "print(f' partidas con equipos locales ganadores: \\n\\n{winners}')\n",
    "print(f' \\n lista completa: \\n \\n {matches}')\n",
    "print(f' \\n\\n len de la lista de equipos ganadores locales: \"{len(winners)}\" len de la lista completa: \"{len(matches)}\"')"
   ]
  },
  {
   "cell_type": "code",
   "execution_count": 154,
   "metadata": {},
   "outputs": [
    {
     "data": {
      "text/plain": [
       "[{'home_team': 'Brazil',\n",
       "  'away_team': 'Mexico',\n",
       "  'home_team_score': 1,\n",
       "  'away_team_score': 1,\n",
       "  'home_team_result': 'Draw'}]"
      ]
     },
     "execution_count": 154,
     "metadata": {},
     "output_type": "execute_result"
    }
   ],
   "source": [
    "# ahora filtar donde hay empates\n",
    "matches = [\n",
    "  {'home_team': 'Bolivia','away_team': 'Uruguay', 'home_team_score': 3, 'away_team_score': 1,\n",
    "   'home_team_result': 'Win'},\n",
    "  \n",
    "  {'home_team': 'Brazil', 'away_team': 'Mexico', 'home_team_score': 1, 'away_team_score': 1,\n",
    "    'home_team_result': 'Draw'},\n",
    "  \n",
    "  {'home_team': 'Ecuador','away_team': 'Venezuela', 'home_team_score': 5, 'away_team_score': 0,\n",
    "    'home_team_result': 'Win'},\n",
    "]\n",
    "draws = list(filter(lambda item : item[\"home_team_result\"] == \"Draw\", matches))\n",
    "draws"
   ]
  },
  {
   "attachments": {},
   "cell_type": "markdown",
   "metadata": {},
   "source": [
    "## reduce( )\n",
    "Con esta función podemos reducir toda la lista a un solo valor. \n",
    "* sumando todos los elementos presentes\n",
    "* dado que solo devuelve un valor. No es necesario transformar la función a una lista\n",
    "\n",
    "Es importante aclara que para poder usarlo hay que importar `functools`\n",
    "\n",
    "Al ser implementada en una lambda. Es necesario hacerlo con dos variables:\n",
    "* una que estará almacenando el resultado de la suma\n",
    "* otra que estará sumando a la variable anterior\n"
   ]
  },
  {
   "cell_type": "code",
   "execution_count": 8,
   "metadata": {},
   "outputs": [],
   "source": [
    "import functools"
   ]
  },
  {
   "cell_type": "code",
   "execution_count": 167,
   "metadata": {},
   "outputs": [
    {
     "data": {
      "text/plain": [
       "10"
      ]
     },
     "execution_count": 167,
     "metadata": {},
     "output_type": "execute_result"
    }
   ],
   "source": [
    "# creamos una lista del 1 - 4\n",
    "numbers = [i for i in range(1,5)]\n",
    "numbers\n",
    "\n",
    "reduced = functools.reduce(lambda counter , item: counter + item, numbers)\n",
    "reduced\n"
   ]
  },
  {
   "attachments": {},
   "cell_type": "markdown",
   "metadata": {},
   "source": [
    "indagando sobre el funcionamiento de reduce"
   ]
  },
  {
   "cell_type": "code",
   "execution_count": 182,
   "metadata": {},
   "outputs": [
    {
     "name": "stdout",
     "output_type": "stream",
     "text": [
      " contador : \"1\" item : 2 \n",
      " contador : \"3\" item : 3 \n",
      " contador : \"6\" item : 4 \n",
      " contador : \"10\" item : 5 \n",
      " contador : \"15\" item : 6 \n",
      " contador : \"21\" item : 7 \n",
      " contador : \"28\" item : 8 \n",
      " contador : \"36\" item : 9 \n",
      " contador : \"45\" item : 10 \n"
     ]
    },
    {
     "data": {
      "text/plain": [
       "55"
      ]
     },
     "execution_count": 182,
     "metadata": {},
     "output_type": "execute_result"
    }
   ],
   "source": [
    "numbers = [i for i in range(1, 11)]\n",
    "\n",
    "def sumatoria(contador , item):\n",
    "    print(f' contador : \"{contador}\" item : {item} ')\n",
    "    suma = contador + item\n",
    "    return suma\n",
    "\n",
    "acumulador = functools.reduce(sumatoria, numbers)\n",
    "\n",
    "reduced_10 = functools.reduce(lambda contador , item: contador + item , numbers)\n",
    "reduced_10\n",
    "    "
   ]
  },
  {
   "cell_type": "code",
   "execution_count": 24,
   "metadata": {},
   "outputs": [
    {
     "name": "stdout",
     "output_type": "stream",
     "text": [
      " contador: i = 1 item: j = 2\n",
      " contador: i = 3 item: j = 3\n",
      " contador: i = 6 item: j = 4\n",
      " contador: i = 10 item: j = 5\n",
      " contador: i = 15 item: j = 6\n",
      " contador: i = 21 item: j = 7\n",
      " contador: i = 28 item: j = 8\n",
      " contador: i = 36 item: j = 9\n",
      " contador: i = 45 item: j = 10\n"
     ]
    },
    {
     "data": {
      "text/plain": [
       "55"
      ]
     },
     "execution_count": 24,
     "metadata": {},
     "output_type": "execute_result"
    }
   ],
   "source": [
    "#sumar números del 1 al 100\n",
    "lista_num = list(range(1,11))\n",
    "lista_num\n",
    "#suma = functools.reduce(lambda i , j : i + j , lista_num)\n",
    "#suma\n",
    "\n",
    "interacion = 0\n",
    "def sumatoria( i , j):\n",
    "  \n",
    "    print(f' contador: i = {i} item: j = {j}')\n",
    "    suma_i_j = i + j\n",
    "    return suma_i_j\n",
    "\n",
    "reduce_suma = functools.reduce(sumatoria , lista_num)\n",
    "\n",
    "reduce_suma\n",
    "    \n"
   ]
  },
  {
   "cell_type": "code",
   "execution_count": null,
   "metadata": {},
   "outputs": [],
   "source": []
  }
 ],
 "metadata": {
  "kernelspec": {
   "display_name": "python_projects",
   "language": "python",
   "name": "python3"
  },
  "language_info": {
   "codemirror_mode": {
    "name": "ipython",
    "version": 3
   },
   "file_extension": ".py",
   "mimetype": "text/x-python",
   "name": "python",
   "nbconvert_exporter": "python",
   "pygments_lexer": "ipython3",
   "version": "3.9.12"
  },
  "orig_nbformat": 4,
  "vscode": {
   "interpreter": {
    "hash": "2b3cdd43dca43692c1c9cfb45dd0231ab5908d4ab72dff2a1a694a90031f8401"
   }
  }
 },
 "nbformat": 4,
 "nbformat_minor": 2
}
