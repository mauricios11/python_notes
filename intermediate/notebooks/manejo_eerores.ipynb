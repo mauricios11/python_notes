{
 "cells": [
  {
   "cell_type": "code",
   "execution_count": null,
   "metadata": {},
   "outputs": [],
   "source": []
  },
  {
   "attachments": {},
   "cell_type": "markdown",
   "metadata": {},
   "source": [
    "### manejo de errores"
   ]
  },
  {
   "attachments": {},
   "cell_type": "markdown",
   "metadata": {},
   "source": [
    "Entre los más comunes están:\n",
    "* `SyntaxError` error de sintaxis:  al tener typos, ó escribir la sintaxis de manera equivocada\n",
    "\n",
    "* `ZeroDivisionError` error de división * 0 : división por un $0$ como denominador\n",
    "\n",
    "*  `NameError` variable / elemento desconocido:  el elemento no se ha encontrado o no existe dentro del scope\n",
    "\n",
    "* `TypeError` faltan elementos por declarar\n",
    "\n",
    "* `AssertionError` la hipótesis al ejecutar la función `assert() == condición` no se ha cumplido"
   ]
  },
  {
   "attachments": {},
   "cell_type": "markdown",
   "metadata": {},
   "source": [
    "### assert\n",
    "esta es una función que se utiliza para verificar una hipótesis: si una condición se cumple\n",
    "* si la hipótesis es verdad, no habrá ningún cambio en el código. pero si no se cunple, devuelve un error"
   ]
  },
  {
   "cell_type": "code",
   "execution_count": 21,
   "metadata": {},
   "outputs": [
    {
     "name": "stdout",
     "output_type": "stream",
     "text": [
      " resultado de la función lambda: 60\n"
     ]
    }
   ],
   "source": [
    "lista_nums = [i for i in range(11)]\n",
    "suma = lambda a , b : a + b \n",
    "print(f' resultado de la función lambda: {suma(10 , 50)}')\n",
    "\n",
    "# verificamos si 10 + 50 = 60\n",
    "assert suma(10, 50) == 60"
   ]
  },
  {
   "attachments": {},
   "cell_type": "markdown",
   "metadata": {},
   "source": [
    "### implementar nuestras propias excepciones (errores) \n",
    "para ello utilizamos `raise` e invocamos a la función `Exception(\"mensaje\")`\n",
    "\n",
    "* si la condición que nosostros necesitamos no se cumple, podemos lanzar un error personalizado para lanzar mensajes al usuario\n"
   ]
  },
  {
   "cell_type": "code",
   "execution_count": 28,
   "metadata": {},
   "outputs": [
    {
     "ename": "Exception",
     "evalue": "Lo siento, no nos gustan los números menores a 10. Sácate de aquí ::bug::",
     "output_type": "error",
     "traceback": [
      "\u001b[0;31m---------------------------------------------------------------------------\u001b[0m",
      "\u001b[0;31mException\u001b[0m                                 Traceback (most recent call last)",
      "\u001b[1;32m/Users/holamauricios/Documents/python_projects/python_projects/intermediate/notebooks/manejo_eerores.ipynb Cell 7\u001b[0m in \u001b[0;36m<cell line: 2>\u001b[0;34m()\u001b[0m\n\u001b[1;32m      <a href='vscode-notebook-cell:/Users/holamauricios/Documents/python_projects/python_projects/intermediate/notebooks/manejo_eerores.ipynb#W5sZmlsZQ%3D%3D?line=0'>1</a>\u001b[0m x \u001b[39m=\u001b[39m \u001b[39m9\u001b[39m\n\u001b[1;32m      <a href='vscode-notebook-cell:/Users/holamauricios/Documents/python_projects/python_projects/intermediate/notebooks/manejo_eerores.ipynb#W5sZmlsZQ%3D%3D?line=1'>2</a>\u001b[0m \u001b[39mif\u001b[39;00m x \u001b[39m<\u001b[39m \u001b[39m10\u001b[39m:\n\u001b[0;32m----> <a href='vscode-notebook-cell:/Users/holamauricios/Documents/python_projects/python_projects/intermediate/notebooks/manejo_eerores.ipynb#W5sZmlsZQ%3D%3D?line=2'>3</a>\u001b[0m     \u001b[39mraise\u001b[39;00m \u001b[39mException\u001b[39;00m(\u001b[39m\"\u001b[39m\u001b[39mLo siento, no nos gustan los números menores a 10. Sácate de aquí ::bug::\u001b[39m\u001b[39m\"\u001b[39m)\n",
      "\u001b[0;31mException\u001b[0m: Lo siento, no nos gustan los números menores a 10. Sácate de aquí ::bug::"
     ]
    }
   ],
   "source": [
    "x = 9\n",
    "if x < 10:\n",
    "    raise Exception(\"Lo siento, no nos gustan los números menores a 10. Sácate de aquí\")\n",
    "    "
   ]
  },
  {
   "cell_type": "code",
   "execution_count": null,
   "metadata": {},
   "outputs": [],
   "source": []
  }
 ],
 "metadata": {
  "kernelspec": {
   "display_name": "python_projects",
   "language": "python",
   "name": "python3"
  },
  "language_info": {
   "codemirror_mode": {
    "name": "ipython",
    "version": 3
   },
   "file_extension": ".py",
   "mimetype": "text/x-python",
   "name": "python",
   "nbconvert_exporter": "python",
   "pygments_lexer": "ipython3",
   "version": "3.9.12"
  },
  "orig_nbformat": 4
 },
 "nbformat": 4,
 "nbformat_minor": 2
}
