{
 "cells": [
  {
   "attachments": {},
   "cell_type": "markdown",
   "metadata": {},
   "source": [
    "## uso de *return* en funciones: buenas prácticas\n",
    "\n",
    "Podemos colocar argumentos predeterminados al momento de definir los parámetros de la función:\n",
    ">`def find_volume(lenght = 1, width = 1 , depth = 1):`\n",
    "\n",
    "* Respecto a esto. Si tenemos muchos parámetros, pero solo es necesario definir uno, simplemente lo colocamos especificando a qué parámetro equivale ese argumento:\n",
    "> `result = find_volume(width = 10)`\n",
    "\n",
    "Es posible colocar varios elementos en el return separánlos por una coma\n",
    "* Esto dará como resultado una tupla\n",
    "\n",
    "       def find_volume(lenght = 1, width = 1 , depth = 1):\n",
    "           return return_1, return_2 , return_3 \n",
    "\n",
    "   * Teniendo una tupla en un return: podemos acceder a uno de esos elementos por medio de su posición\n",
    "   > `result = find_volume(length = 1, width =1, depth = 1)` $\\rightarrow$ `result[0]`\n",
    "\n",
    "    * * ó también podemos hacerlo así: \n",
    "      > `return_1, return_2, return_3 = find_volume(width = 10)` $\\rightarrow$  `print(return_2)`\n"
   ]
  },
  {
   "attachments": {},
   "cell_type": "markdown",
   "metadata": {},
   "source": [
    "a continuación haremos una función que calcula el volumen de algo: "
   ]
  },
  {
   "cell_type": "code",
   "execution_count": 19,
   "metadata": {},
   "outputs": [
    {
     "name": "stdout",
     "output_type": "stream",
     "text": [
      " Todos los returns de la función en una tupla: ('Este es el primer return', 10, 'Este es el tercer return', 10)\n",
      " \n",
      "\n",
      " este es el segundo return: 10\n",
      "\n",
      " este es el tercer return: Este es el tercer return\n"
     ]
    }
   ],
   "source": [
    "def find_volume(lenght = 1, width = 1 , depth = 1):\n",
    "    return \"Este es el primer return\", lenght * width * depth , \"Este es el tercer return\" , width\n",
    "\n",
    "result_0 = find_volume(width = 10)\n",
    "print(f' Todos los returns de la función en una tupla: {result_0}')\n",
    "\n",
    "print(f' \\n\\n este es el segundo return: {result_0[1]}\\n')\n",
    "print(f' este es el tercer return: {result_0[2]}')"
   ]
  },
  {
   "cell_type": "code",
   "execution_count": 9,
   "metadata": {},
   "outputs": [
    {
     "name": "stdout",
     "output_type": "stream",
     "text": [
      " 1º return: Este es el primer return \n",
      " 2º return: 20 \n",
      " 3º return: Este es el tercer return\n",
      " 4º return: 10\n"
     ]
    }
   ],
   "source": [
    "result_1, result_2, result_3 , result_4 = find_volume(width = 10, lenght= 2)\n",
    "print(f' 1º return: {result_1} \\n 2º return: {result_2} \\n 3º return: {result_3}\\n 4º return: {result_4}')"
   ]
  },
  {
   "attachments": {},
   "cell_type": "markdown",
   "metadata": {},
   "source": [
    "## Scope\n",
    "indagaremos sobre el alcance que tienen los statements dependiendo de su indentación. Entre más a la izquierda estén, mayor alcance tendrán\n",
    "* por consiguiente. La demás parte del código pod´ra acceder a este valor"
   ]
  },
  {
   "attachments": {},
   "cell_type": "markdown",
   "metadata": {},
   "source": [
    "Función que incrementa un valor"
   ]
  },
  {
   "cell_type": "code",
   "execution_count": 22,
   "metadata": {},
   "outputs": [
    {
     "name": "stdout",
     "output_type": "stream",
     "text": [
      " este print está dentro de la función: y vamos a sumar: 102 + 1\n"
     ]
    },
    {
     "data": {
      "text/plain": [
       "103"
      ]
     },
     "execution_count": 22,
     "metadata": {},
     "output_type": "execute_result"
    }
   ],
   "source": [
    "cien = 100 # alcance global\n",
    "def increment(n):\n",
    "    print(f' este print está dentro de la función: y vamos a sumar: {n} + 1')\n",
    "    return n + 1\n",
    "    \n",
    "\n",
    "\n",
    "increment((cien + 2))"
   ]
  },
  {
   "cell_type": "code",
   "execution_count": null,
   "metadata": {},
   "outputs": [],
   "source": []
  }
 ],
 "metadata": {
  "kernelspec": {
   "display_name": "python_projects",
   "language": "python",
   "name": "python3"
  },
  "language_info": {
   "codemirror_mode": {
    "name": "ipython",
    "version": 3
   },
   "file_extension": ".py",
   "mimetype": "text/x-python",
   "name": "python",
   "nbconvert_exporter": "python",
   "pygments_lexer": "ipython3",
   "version": "3.9.12"
  },
  "orig_nbformat": 4,
  "vscode": {
   "interpreter": {
    "hash": "2b3cdd43dca43692c1c9cfb45dd0231ab5908d4ab72dff2a1a694a90031f8401"
   }
  }
 },
 "nbformat": 4,
 "nbformat_minor": 2
}
