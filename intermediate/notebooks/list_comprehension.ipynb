{
 "cells": [
  {
   "attachments": {},
   "cell_type": "markdown",
   "metadata": {},
   "source": [
    "## List comprehension\n",
    "\n",
    "Las lists comprehensions son formas abreviadas de crear listas por medio de loops\n",
    "\n",
    "sintaxis con un E/M:\n",
    "\n",
    "* `element`  $\\rightarrow$ *elemento / iterador* \n",
    "    * de ser necesario, aquí también puede haber una operación que ocurra sobre este *iterador* $\\rightarrow$ `element * 2`\n",
    "* `for element in iterable` $\\rightarrow$ *ciclo donde se extraen elementos con un iterable* \n",
    "* `if element % 2 == 0` $\\rightarrow$ *condicional*\n",
    "\n",
    "se vería de la siguiente forma: \n",
    "\n",
    ">`[element * 2 for element in range(1,11) if element % 2 == 0]`\n",
    "\n",
    "   * Esta list comprehension se puede leer de la siguiente forma:\n",
    "     *  *\"dado el iterador* `element` *que estará recorriendo un rango desde el 1 hasta el 10* (`range(1,11)`)*, si el residuo de dividir del iterador entre 2 es 0*(`element % 2 == 0`)*. Entonces multiplicar el interador • 2\"*(`element * 2`)\n",
    "\n",
    "*NOTA: un iterable es algo que es posible iterar(como una lista de números). El iterador es el elemento que recorre al iterable y si valor va incrementándose progresivamente a medida que se comienza un nuevo recorrido, ó iteración*"
   ]
  },
  {
   "cell_type": "code",
   "execution_count": 10,
   "metadata": {},
   "outputs": [
    {
     "data": {
      "text/plain": [
       "[4, 8, 12, 16, 20]"
      ]
     },
     "execution_count": 10,
     "metadata": {},
     "output_type": "execute_result"
    }
   ],
   "source": [
    "#sin list comprehension\n",
    "lista = []\n",
    "for element in range(1,11):\n",
    "    if element % 2 == 0:\n",
    "        lista.append(element * 2)\n",
    "    \n",
    "lista"
   ]
  },
  {
   "cell_type": "code",
   "execution_count": 8,
   "metadata": {},
   "outputs": [
    {
     "data": {
      "text/plain": [
       "[4, 8, 12, 16, 20]"
      ]
     },
     "execution_count": 8,
     "metadata": {},
     "output_type": "execute_result"
    }
   ],
   "source": [
    "# con list comprehension\n",
    "lista_comprehension= [element *2 for element in range(1,11) if element % 2== 0]\n",
    "lista_comprehension"
   ]
  }
 ],
 "metadata": {
  "kernelspec": {
   "display_name": "python_projects",
   "language": "python",
   "name": "python3"
  },
  "language_info": {
   "codemirror_mode": {
    "name": "ipython",
    "version": 3
   },
   "file_extension": ".py",
   "mimetype": "text/x-python",
   "name": "python",
   "nbconvert_exporter": "python",
   "pygments_lexer": "ipython3",
   "version": "3.9.12"
  },
  "orig_nbformat": 4,
  "vscode": {
   "interpreter": {
    "hash": "2b3cdd43dca43692c1c9cfb45dd0231ab5908d4ab72dff2a1a694a90031f8401"
   }
  }
 },
 "nbformat": 4,
 "nbformat_minor": 2
}
