{
 "cells": [
  {
   "attachments": {},
   "cell_type": "markdown",
   "metadata": {},
   "source": [
    "## funciones Lambda \n",
    "Así como las list comprehensions ayudan a suplir código para agregar elementos a una lista. Las funciones lambda son una forma abreviada de escribir una función \n",
    "\n",
    "\n",
    "* Dado que son funciones anónimas. Es posible asignar una función lambda a una variable. Para ser invodada de esta forma\n",
    "\n",
    "sintaxis:\n",
    "`lambda variable_entrada : resultado `\n"
   ]
  },
  {
   "cell_type": "code",
   "execution_count": 3,
   "metadata": {},
   "outputs": [
    {
     "data": {
      "text/plain": [
       "11"
      ]
     },
     "execution_count": 3,
     "metadata": {},
     "output_type": "execute_result"
    }
   ],
   "source": [
    "# función normal\n",
    "def suma(n):\n",
    "    operacion = n + 1\n",
    "    return operacion\n",
    "\n",
    "suma(5)\n",
    "\n",
    "# función anterior usando lambda con un parámetro\n",
    "suma_lambda = (lambda n : n + 1)\n",
    "\n",
    "#invocamos a lambda declarando su argumento\n",
    "suma_lambda(10)"
   ]
  },
  {
   "cell_type": "code",
   "execution_count": 15,
   "metadata": {},
   "outputs": [
    {
     "name": "stdout",
     "output_type": "stream",
     "text": [
      " Mi nombre es: Mauricio escobar\n",
      " \n",
      " Mi nombre es: Mauricios Escobar\n"
     ]
    }
   ],
   "source": [
    "# función con dos argumentos \n",
    "def full_name(name , apellido):\n",
    "    return print(f' Mi nombre es: {name} {apellido}')\n",
    "\n",
    "full_name(\"Mauricio\", \"escobar\")\n",
    "\n",
    "# función anterior usando lambda\n",
    "\n",
    "\n",
    "nombre = lambda name , apellido : (f' \\n Mi nombre es: {name.title()} {apellido.title()}')\n",
    "list = [\"Mauricios\", \"Escobar\"]\n",
    "\n",
    "print(nombre(list[0], list[1]))"
   ]
  },
  {
   "cell_type": "code",
   "execution_count": null,
   "metadata": {},
   "outputs": [],
   "source": []
  }
 ],
 "metadata": {
  "kernelspec": {
   "display_name": "Python 3",
   "language": "python",
   "name": "python3"
  },
  "language_info": {
   "codemirror_mode": {
    "name": "ipython",
    "version": 3
   },
   "file_extension": ".py",
   "mimetype": "text/x-python",
   "name": "python",
   "nbconvert_exporter": "python",
   "pygments_lexer": "ipython3",
   "version": "3.9.6"
  },
  "orig_nbformat": 4,
  "vscode": {
   "interpreter": {
    "hash": "aee8b7b246df8f9039afb4144a1f6fd8d2ca17a180786b69acc140d282b71a49"
   }
  }
 },
 "nbformat": 4,
 "nbformat_minor": 2
}
