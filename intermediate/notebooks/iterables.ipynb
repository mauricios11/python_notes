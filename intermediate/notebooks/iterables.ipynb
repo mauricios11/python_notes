{
 "cells": [
  {
   "cell_type": "code",
   "execution_count": null,
   "metadata": {},
   "outputs": [],
   "source": []
  },
  {
   "attachments": {},
   "cell_type": "markdown",
   "metadata": {},
   "source": [
    " ## Iterables \n",
    "\n",
    " A parte de los iterables comunes, como los usuamente utilizados en ciclos. También hay otro tipo de iterables que se pueden controlar de \"forma manual\""
   ]
  },
  {
   "cell_type": "code",
   "execution_count": 1,
   "metadata": {},
   "outputs": [
    {
     "name": "stdout",
     "output_type": "stream",
     "text": [
      "0\n",
      "1\n",
      "2\n",
      "3\n",
      "4\n",
      "5\n",
      "6\n",
      "7\n",
      "8\n",
      "9\n",
      "10\n"
     ]
    }
   ],
   "source": [
    "for i in range(0, 11):\n",
    "    print(i)"
   ]
  },
  {
   "attachments": {},
   "cell_type": "markdown",
   "metadata": {},
   "source": [
    "### funciones de iteración controlada: iter( ) y next ( )\n",
    "\n",
    "Ahora, por medio de la función `iter()` vamos a haces esto mismo pero sin usar un ciclo\n",
    "* esta función recibe como argumento un rango\n",
    "  * lo que obtenemos es un elemento tipo *range_iterator*\n",
    "\n",
    "##### implementación\n",
    "¿de qué sirve esto?\n",
    "Cuando usamos un iterador de esta forma: `iter(range(10))` gracias a esta función podemos controlar  cada una de las iteraciones manualmente usando `next(iter(range(10)))`\n",
    "* es decir: el resultado al invocar a `next(iter(rango))` será la primera iteración, **no se harán todas de golpe**\n",
    "\n",
    "\n",
    "#### características\n",
    "* Dado que se genera el rango especificado de manera progresiva, por cada vez que ejecutemos estas funciones dará como resultado el siguiente elemento a iterar\n",
    "\n",
    "* Es importante tener en cuenta que: como estamos controlando el proceso de iteración. Si sobrepasamos la capasidad del rango especificado en la función, nos dará un error\n",
    "\n",
    "\n",
    "Es posible que en algunos casos sea necesario leer algún archivo línea por línea. Para esto serían útiles estas funciones"
   ]
  },
  {
   "cell_type": "code",
   "execution_count": 2,
   "metadata": {},
   "outputs": [
    {
     "data": {
      "text/plain": [
       "<range_iterator at 0x7fc9c7863ba0>"
      ]
     },
     "execution_count": 2,
     "metadata": {},
     "output_type": "execute_result"
    }
   ],
   "source": [
    "lista_nums  = [i for i in range(0,11)]\n",
    "\n",
    "# invocamos a la función y especificamos un rango \n",
    "my_iterator = iter(range(len(lista_nums)))\n",
    "my_iterator"
   ]
  },
  {
   "cell_type": "code",
   "execution_count": 3,
   "metadata": {},
   "outputs": [
    {
     "name": "stdout",
     "output_type": "stream",
     "text": [
      " esta es la lista que vamos a iterar: [0, 1, 2, 3, 4, 5, 6, 7, 8, 9, 10]\n",
      "  primera iteración: 0\n",
      "  segunda iteración: 1\n",
      "  tercera iteración: 2\n"
     ]
    }
   ],
   "source": [
    "print(f' esta es la lista que vamos a iterar: {lista_nums}')\n",
    "print(f'  primera iteración: {next(my_iterator)}')\n",
    "print(f'  segunda iteración: {next(my_iterator)}')\n",
    "print(f'  tercera iteración: {next(my_iterator)}')"
   ]
  }
 ],
 "metadata": {
  "kernelspec": {
   "display_name": "python_projects",
   "language": "python",
   "name": "python3"
  },
  "language_info": {
   "codemirror_mode": {
    "name": "ipython",
    "version": 3
   },
   "file_extension": ".py",
   "mimetype": "text/x-python",
   "name": "python",
   "nbconvert_exporter": "python",
   "pygments_lexer": "ipython3",
   "version": "3.9.12"
  },
  "orig_nbformat": 4
 },
 "nbformat": 4,
 "nbformat_minor": 2
}
