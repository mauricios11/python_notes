{
 "cells": [
  {
   "attachments": {},
   "cell_type": "markdown",
   "metadata": {},
   "source": [
    "## Conjuntos (set)\n",
    "Un conjunto tiene elementos  que comparten algo en común\n",
    "\n",
    "Los conjuntos:\n",
    "* Se puede modificar su valor\n",
    "* No tienen un orden\n",
    "* No permite duplicados\n",
    "* pueden contener distintos tipos de elementos ( strings, bool, int, float )"
   ]
  },
  {
   "cell_type": "code",
   "execution_count": 3,
   "metadata": {},
   "outputs": [
    {
     "name": "stdout",
     "output_type": "stream",
     "text": [
      " verificamos el tipo de elemento: <class 'set'> conjunto: {'col', 'mex', 'bol'}\n"
     ]
    }
   ],
   "source": [
    "# conjunto de paises\n",
    "set_countries = {\"col\", \"mex\", \"bol\"}\n",
    "print(f' verificamos el tipo de elemento: {type(set_countries)} conjunto: {set_countries}')"
   ]
  },
  {
   "cell_type": "code",
   "execution_count": 4,
   "metadata": {},
   "outputs": [
    {
     "data": {
      "text/plain": [
       "{'H', 'a', 'l', 'o'}"
      ]
     },
     "execution_count": 4,
     "metadata": {},
     "output_type": "execute_result"
    }
   ],
   "source": [
    "# pasar un string a un set\n",
    "texto = \"Hoooola\"\n",
    "set(texto)"
   ]
  },
  {
   "cell_type": "code",
   "execution_count": 5,
   "metadata": {},
   "outputs": [
    {
     "data": {
      "text/plain": [
       "{'calcetines', 'pantalones', 'playeras', 'sudaderas', 'zapatos'}"
      ]
     },
     "execution_count": 5,
     "metadata": {},
     "output_type": "execute_result"
    }
   ],
   "source": [
    "# pasar una tupla a un set\n",
    "tupla = (\"zapatos\", \"pantalones\", \"calcetines\", \"playeras\", \"sudaderas\")\n",
    "set(tupla)"
   ]
  },
  {
   "cell_type": "code",
   "execution_count": null,
   "metadata": {},
   "outputs": [],
   "source": []
  }
 ],
 "metadata": {
  "kernelspec": {
   "display_name": "python_projects",
   "language": "python",
   "name": "python3"
  },
  "language_info": {
   "codemirror_mode": {
    "name": "ipython",
    "version": 3
   },
   "file_extension": ".py",
   "mimetype": "text/x-python",
   "name": "python",
   "nbconvert_exporter": "python",
   "pygments_lexer": "ipython3",
   "version": "3.9.12"
  },
  "orig_nbformat": 4
 },
 "nbformat": 4,
 "nbformat_minor": 2
}
