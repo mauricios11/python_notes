{
 "cells": [
  {
   "attachments": {},
   "cell_type": "markdown",
   "metadata": {},
   "source": [
    "## utils (módulos propios)\n",
    "\n",
    "Son cualquier archivo con formato *.py* \n",
    "\n",
    "las notas están en los archivos dentro de la carpeta *utils_app*:\n",
    "* utils (funciones modularizaras)\n",
    "* main (invocación de las funciones)"
   ]
  },
  {
   "cell_type": "code",
   "execution_count": null,
   "metadata": {},
   "outputs": [],
   "source": []
  }
 ],
 "metadata": {
  "language_info": {
   "name": "python"
  },
  "orig_nbformat": 4
 },
 "nbformat": 4,
 "nbformat_minor": 2
}
