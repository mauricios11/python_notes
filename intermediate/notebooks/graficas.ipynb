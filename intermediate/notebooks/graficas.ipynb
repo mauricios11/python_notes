{
 "cells": [
  {
   "cell_type": "code",
   "execution_count": null,
   "metadata": {},
   "outputs": [],
   "source": []
  },
  {
   "attachments": {},
   "cell_type": "markdown",
   "metadata": {},
   "source": [
    "### graficar elementos de un dataset"
   ]
  },
  {
   "cell_type": "code",
   "execution_count": 1,
   "metadata": {},
   "outputs": [],
   "source": [
    "import csv\n",
    "import matplotlib.pyplot as plt\n",
    "import os\n",
    "import sys\n"
   ]
  },
  {
   "cell_type": "code",
   "execution_count": 2,
   "metadata": {},
   "outputs": [
    {
     "data": {
      "text/plain": [
       "'/Users/holamauricios/Documents/python_projects/python_projects/intermediate/notebooks'"
      ]
     },
     "execution_count": 2,
     "metadata": {},
     "output_type": "execute_result"
    }
   ],
   "source": [
    "CURRENT_DIR = os.getcwd()\n",
    "CURRENT_DIR"
   ]
  },
  {
   "cell_type": "code",
   "execution_count": 3,
   "metadata": {},
   "outputs": [
    {
     "data": {
      "text/plain": [
       "['/Users/holamauricios/Documents/python_projects/python_projects/intermediate/notebooks/../data/file.txt',\n",
       " '/Users/holamauricios/Documents/python_projects/python_projects/intermediate/notebooks/../data/fila.py',\n",
       " '/Users/holamauricios/Documents/python_projects/python_projects/intermediate/notebooks/../data/data_population.csv',\n",
       " '/Users/holamauricios/Documents/python_projects/python_projects/intermediate/notebooks/../data/gastos.csv']"
      ]
     },
     "execution_count": 3,
     "metadata": {},
     "output_type": "execute_result"
    }
   ],
   "source": [
    "DATA_DIR = os.path.join(CURRENT_DIR, os.pardir , \"data\")\n",
    "[os.path.join(DATA_DIR , item) for item in os.listdir(DATA_DIR)]"
   ]
  },
  {
   "cell_type": "code",
   "execution_count": 4,
   "metadata": {},
   "outputs": [
    {
     "data": {
      "text/plain": [
       "'/Users/holamauricios/Documents/python_projects/python_projects/intermediate/notebooks/../data/data_population.csv'"
      ]
     },
     "execution_count": 4,
     "metadata": {},
     "output_type": "execute_result"
    }
   ],
   "source": [
    "DATA_FILE = os.path.join(CURRENT_DIR , os.pardir , \"data\" , \"data_population.csv\")\n",
    "DATA_FILE"
   ]
  },
  {
   "cell_type": "code",
   "execution_count": 5,
   "metadata": {},
   "outputs": [],
   "source": [
    "def read_csv(path):\n",
    "    with open(path , 'r') as df:\n",
    "        reader = csv.reader(df , delimiter = ',')\n",
    "        header = next(reader)\n",
    "        \n",
    "        data = []\n",
    "        for row in reader:\n",
    "            iterador = zip(header , row)\n",
    "            country_dict = { header : row  for header, row in iterador}\n",
    "            data.append(country_dict)\n",
    "            \n",
    "    return data\n"
   ]
  },
  {
   "cell_type": "code",
   "execution_count": 6,
   "metadata": {},
   "outputs": [
    {
     "data": {
      "image/png": "[encoded data removed]",
      "text/plain": [
       "<Figure size 432x288 with 1 Axes>"
      ]
     },
     "metadata": {},
     "output_type": "display_data"
    },
    {
     "data": {
      "image/png": "[encoded data removed]",
      "text/plain": [
       "<Figure size 432x288 with 1 Axes>"
      ]
     },
     "metadata": {
      "needs_background": "light"
     },
     "output_type": "display_data"
    }
   ],
   "source": [
    "labels = ['a', 'b', 'c']\n",
    "values = [ 100, 200, 300]\n",
    "\n",
    "def bar(labels, values): \n",
    "    fig, ax = plt.subplots()\n",
    "    ax.bar(labels, values)\n",
    "    plt.show()\n",
    "\n",
    "def pie(labels ,values):\n",
    "    fig, ax = plt.subplots()\n",
    "    ax.pie(values, labels = labels)\n",
    "    plt.show()\n",
    "    \n",
    "pie_plot = pie(labels, values)    \n",
    "bar_plot = bar(labels , values)\n",
    "\n",
    "bar_plot\n",
    "pie_plot\n"
   ]
  },
  {
   "cell_type": "code",
   "execution_count": 7,
   "metadata": {},
   "outputs": [],
   "source": [
    "sys.path.insert(0, DATA_DIR)\n",
    "sys.path.insert(0, DATA_FILE)"
   ]
  },
  {
   "cell_type": "code",
   "execution_count": 10,
   "metadata": {},
   "outputs": [
    {
     "name": "stdout",
     "output_type": "stream",
     "text": [
      "hola :D\n"
     ]
    }
   ],
   "source": []
  },
  {
   "cell_type": "code",
   "execution_count": null,
   "metadata": {},
   "outputs": [],
   "source": []
  }
 ],
 "metadata": {
  "kernelspec": {
   "display_name": "python_projects",
   "language": "python",
   "name": "python3"
  },
  "language_info": {
   "codemirror_mode": {
    "name": "ipython",
    "version": 3
   },
   "file_extension": ".py",
   "mimetype": "text/x-python",
   "name": "python",
   "nbconvert_exporter": "python",
   "pygments_lexer": "ipython3",
   "version": "3.9.12"
  },
  "orig_nbformat": 4
 },
 "nbformat": 4,
 "nbformat_minor": 2
}
