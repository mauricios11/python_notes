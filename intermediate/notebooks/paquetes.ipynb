{
 "cells": [
  {
   "cell_type": "code",
   "execution_count": null,
   "metadata": {},
   "outputs": [],
   "source": []
  },
  {
   "attachments": {},
   "cell_type": "markdown",
   "metadata": {},
   "source": [
    "### Paquetes\n",
    "Un paquete no es más que una carpeta que tiene varios módulos, pero hay algunas cosas que tendríamos que tener en cuenta\n",
    "\n",
    "Estaremos trabajando con archivos de la carpeta *packages*\n",
    "\n",
    "El notebook actual será el archivo main. Lugar donde se estarán ejecutando los scripts que están en la carpeta antes mencionada (ó casi todos)\n"
   ]
  },
  {
   "attachments": {},
   "cell_type": "markdown",
   "metadata": {},
   "source": [
    "#### Estableciendo conexión con la carpeta *package*\n",
    "\n",
    "**1-** especificar ubicación del nb actual \n",
    "\n",
    "**2-** unir rutas entre ubicación actual y la carpeta deseada (podríamos decir que son carpetas que tienen la carpeta padre en común)\n",
    " * puede accederse a ella retrocediendo una carpeta: `intermediate/notebooks` $\\rightarrow$ `intermediate/package`\n",
    "\n",
    "**3-** insertamos el path de la carpeta \"hermana\" para poder importar sus archivos\n",
    "\n",
    "**4-** importamos los archivos por su nombre"
   ]
  },
  {
   "cell_type": "code",
   "execution_count": 1,
   "metadata": {},
   "outputs": [],
   "source": [
    "import os\n",
    "import sys"
   ]
  },
  {
   "cell_type": "code",
   "execution_count": 2,
   "metadata": {},
   "outputs": [
    {
     "data": {
      "text/plain": [
       "'/Users/holamauricios/Documents/python_projects/python_projects/intermediate/notebooks'"
      ]
     },
     "execution_count": 2,
     "metadata": {},
     "output_type": "execute_result"
    }
   ],
   "source": [
    "#especificamos carpeta actual \n",
    "CURRENT_DIR = os.getcwd()\n",
    "CURRENT_DIR"
   ]
  },
  {
   "cell_type": "code",
   "execution_count": 3,
   "metadata": {},
   "outputs": [
    {
     "data": {
      "text/plain": [
       "'/Users/holamauricios/Documents/python_projects/python_projects/intermediate/notebooks/../package'"
      ]
     },
     "execution_count": 3,
     "metadata": {},
     "output_type": "execute_result"
    }
   ],
   "source": [
    "SCRIPT_DIR = os.path.join(CURRENT_DIR, os.pardir , \"package\")\n",
    "SCRIPT_DIR"
   ]
  },
  {
   "cell_type": "code",
   "execution_count": 4,
   "metadata": {},
   "outputs": [],
   "source": [
    "sys.path.insert(0,SCRIPT_DIR)"
   ]
  },
  {
   "cell_type": "code",
   "execution_count": 5,
   "metadata": {},
   "outputs": [],
   "source": [
    "#from modulo_1 import package_func_number_dict , package_func_text_1\n",
    "#from modulo_2 import package_func_number_list, package_func_text_2\n",
    "#from __init__ import URL"
   ]
  },
  {
   "cell_type": "code",
   "execution_count": 6,
   "metadata": {},
   "outputs": [
    {
     "name": "stdout",
     "output_type": "stream",
     "text": [
      "paquete iniciado :D\n"
     ]
    }
   ],
   "source": [
    "import modulo_1\n",
    "import modulo_2\n",
    "import __init__"
   ]
  },
  {
   "cell_type": "code",
   "execution_count": 13,
   "metadata": {},
   "outputs": [],
   "source": [
    "dict_modulo_1 = modulo_1.package_func_number_dict()\n",
    "text_modulo_1 = modulo_1.package_func_text_1()"
   ]
  },
  {
   "cell_type": "code",
   "execution_count": 14,
   "metadata": {},
   "outputs": [],
   "source": [
    "list_m1 = modulo_2.package_func_number_list()\n",
    "text_modulo_2 = modulo_2.package_func_text_2()"
   ]
  },
  {
   "cell_type": "code",
   "execution_count": 20,
   "metadata": {},
   "outputs": [
    {
     "name": "stdout",
     "output_type": "stream",
     "text": [
      " Importando funciones del módulo 2 \n",
      " \n",
      " esta es una lista: [6, 12, 18, 24, 30, 36, 42, 48, 54, 60] \n",
      " \n",
      " y este es el texto: Esta es una función dentro de la carpeta package y contiene texto\n"
     ]
    }
   ],
   "source": [
    "print(f' Importando funciones del módulo 2 \\n ')\n",
    "print(f' esta es una lista: {list_m1} \\n \\n y este es el texto: {text_modulo_2}')"
   ]
  },
  {
   "attachments": {},
   "cell_type": "markdown",
   "metadata": {},
   "source": [
    "### archivo __ init __\n",
    "Este es obligatorio para versiones anteriores de python 3.3 para declarar *package*'s\n",
    "* En versiones posteriores, se utilizar para inicializar comandos dentro de ese paquete, entre estas acciones pueden ser:\n",
    "\n",
    "  * crear acciones que se hagan antes de importar los paquetes. Si hay una variable en este archivo. Se creará esa variable\n",
    "  * utilizar un *name space*. a continuación un E/M de porqué no es bueno importarlo por su name space directamente en un py file\n",
    "    * esto sería un *name space* $\\rightarrow$ `from package.modulo_1 import package_func_number_dict()`\n",
    "\n",
    "      ##### importar módulos por sus name spaces (no funciona)\n",
    "              import package\n",
    "              print(package.modulo_1.package_func_number_dict())\n",
    "              # no funciona porque no se detecta *modulo_1* ya que no se ha importado\n",
    "\n",
    "      ##### importar módulos directamente\n",
    "\n",
    "              from package.modulo_1 import package_func_number_dict\n",
    "              \n",
    "              print(package_func_number_dict()) # esto sí funciona\n",
    "              print(package_func_text_2())\n",
    "\n",
    "      * **para que sí funcione**, podríamos hacer la importación explícita dentro del *__ init __*\n",
    "      * en jupyter nb no es necesario hacer esto porque ya se está importando a *package* accediendo a su path"
   ]
  },
  {
   "cell_type": "code",
   "execution_count": 9,
   "metadata": {},
   "outputs": [
    {
     "data": {
      "text/plain": [
       "'platzi.com'"
      ]
     },
     "execution_count": 9,
     "metadata": {},
     "output_type": "execute_result"
    }
   ],
   "source": [
    "__init__.URL"
   ]
  },
  {
   "cell_type": "code",
   "execution_count": 24,
   "metadata": {},
   "outputs": [
    {
     "name": "stdout",
     "output_type": "stream",
     "text": [
      "Esta es otra función dentro de la carpeta package y contiene texto , agregamos más texto\n"
     ]
    }
   ],
   "source": [
    "print(modulo_1.package_func_text_1())"
   ]
  },
  {
   "cell_type": "code",
   "execution_count": null,
   "metadata": {},
   "outputs": [],
   "source": []
  }
 ],
 "metadata": {
  "kernelspec": {
   "display_name": "python_projects",
   "language": "python",
   "name": "python3"
  },
  "language_info": {
   "codemirror_mode": {
    "name": "ipython",
    "version": 3
   },
   "file_extension": ".py",
   "mimetype": "text/x-python",
   "name": "python",
   "nbconvert_exporter": "python",
   "pygments_lexer": "ipython3",
   "version": "3.9.12"
  },
  "orig_nbformat": 4
 },
 "nbformat": 4,
 "nbformat_minor": 2
}
