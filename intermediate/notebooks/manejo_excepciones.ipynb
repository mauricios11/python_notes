{
 "cells": [
  {
   "cell_type": "code",
   "execution_count": null,
   "metadata": {},
   "outputs": [],
   "source": []
  },
  {
   "attachments": {},
   "cell_type": "markdown",
   "metadata": {},
   "source": [
    "## manejo de excepciones: \"try\" \"except\"\n",
    "\n",
    "cada vez que python encuentre estos errores. Se podrá controlar el error para desviar el programa, tal que el error afecte su funcionamiento lo menos posible\n",
    "\n",
    "Para generar excepciones en el código usamos:\n",
    "\n",
    "`try`: aquí ejecutamos el código del programa\n",
    "* cuando tenemos muchas condiciones (y por lo tanto muchos try)\n",
    "    * podemos colocar varias condiciones dentro del try, para evitar poner uno por cada *assert*\n",
    "\n",
    "`except`: aquí colocamos los posibles errores que pueda generar el output del código ubicado en el `try`\n",
    "*  concatenación de excepts\n",
    "* * Si tenemos muchas condiciones en el try, tendremos un *except* por cada condición que esté en él.\n",
    " * * * Es importante capturar cada excepción que esté en el try.  \n",
    "  * \n",
    "  Este E/M lo podemos ver más abajo con una concatanación de execpts\n",
    "\n",
    "### usando assert\n",
    "\n",
    "Es posible manejar errores por medio de un `assert`. lanzando una expecpción propia y colocándola después de una \"`,`\": \n",
    "* esta condicional (*assert*) se activará cuando no se cumpla\n",
    "    `assert a != a , \"Los valores no son iguales\"`\n",
    "\n",
    "También podemos capturar los `assert` dentro de un `try`. Y si la condición del assert **NO** se cumple. Entonces podremos colocar un `AssertionError` en un `except`\n",
    "\n",
    "de la siguiente forma\n",
    "\n",
    "                try:\n",
    "                assert a != a (dado que esta condición NO se cumple, se lanza un except)\n",
    "                except AssertionError as error:\n",
    "                    print( error )"
   ]
  },
  {
   "cell_type": "code",
   "execution_count": 26,
   "metadata": {},
   "outputs": [
    {
     "name": "stdout",
     "output_type": "stream",
     "text": [
      "division by zero\n"
     ]
    },
    {
     "ename": "AssertionError",
     "evalue": "los numeros son iguales. por lo tanto 1 != 1 no es verdad",
     "output_type": "error",
     "traceback": [
      "\u001b[0;31m---------------------------------------------------------------------------\u001b[0m",
      "\u001b[0;31mAssertionError\u001b[0m                            Traceback (most recent call last)",
      "\u001b[1;32m/Users/holamauricios/Documents/python_projects/python_projects/intermediate/notebooks/manejo_excepciones.ipynb Cell 3\u001b[0m in \u001b[0;36m<cell line: 17>\u001b[0;34m()\u001b[0m\n\u001b[1;32m     <a href='vscode-notebook-cell:/Users/holamauricios/Documents/python_projects/python_projects/intermediate/notebooks/manejo_excepciones.ipynb#W2sZmlsZQ%3D%3D?line=13'>14</a>\u001b[0m \u001b[39mexcept\u001b[39;00m \u001b[39mTypeError\u001b[39;00m:\n\u001b[1;32m     <a href='vscode-notebook-cell:/Users/holamauricios/Documents/python_projects/python_projects/intermediate/notebooks/manejo_excepciones.ipynb#W2sZmlsZQ%3D%3D?line=14'>15</a>\u001b[0m     \u001b[39mprint\u001b[39m(\u001b[39m\"\u001b[39m\u001b[39mColocar el número con dígitos, no con letras\u001b[39m\u001b[39m\"\u001b[39m)\n\u001b[0;32m---> <a href='vscode-notebook-cell:/Users/holamauricios/Documents/python_projects/python_projects/intermediate/notebooks/manejo_excepciones.ipynb#W2sZmlsZQ%3D%3D?line=16'>17</a>\u001b[0m \u001b[39massert\u001b[39;00m \u001b[39m1\u001b[39m \u001b[39m!=\u001b[39m \u001b[39m1\u001b[39m , \u001b[39m\"\u001b[39m\u001b[39mlos numeros son iguales. por lo tanto 1 != 1 no es verdad\u001b[39m\u001b[39m\"\u001b[39m\n\u001b[1;32m     <a href='vscode-notebook-cell:/Users/holamauricios/Documents/python_projects/python_projects/intermediate/notebooks/manejo_excepciones.ipynb#W2sZmlsZQ%3D%3D?line=18'>19</a>\u001b[0m lista_nums \u001b[39m=\u001b[39m [i \u001b[39mfor\u001b[39;00m i \u001b[39min\u001b[39;00m \u001b[39mrange\u001b[39m(\u001b[39m1\u001b[39m,\u001b[39m11\u001b[39m)]\n\u001b[1;32m     <a href='vscode-notebook-cell:/Users/holamauricios/Documents/python_projects/python_projects/intermediate/notebooks/manejo_excepciones.ipynb#W2sZmlsZQ%3D%3D?line=19'>20</a>\u001b[0m lista_letras \u001b[39m=\u001b[39m \u001b[39m\"\u001b[39m\u001b[39mabcdefghij\u001b[39m\u001b[39m\"\u001b[39m\n",
      "\u001b[0;31mAssertionError\u001b[0m: los numeros son iguales. por lo tanto 1 != 1 no es verdad"
     ]
    }
   ],
   "source": [
    "#try , except\n",
    "numero_input = input(\"elige un número: \")\n",
    "if numero_input.isdigit() == True:\n",
    "    numero_input = int(numero_input)\n",
    "\n",
    "try: \n",
    "    division = numero_input / 0\n",
    "    print(numero_input)\n",
    "\n",
    "#indicar el error con una palabra clave\n",
    "except ZeroDivisionError as error:\n",
    "    print(error)\n",
    "\n",
    "except TypeError:\n",
    "    print(\"Colocar el número con dígitos, no con letras\")\n",
    "    \n",
    "assert 1 != 1 , \"los numeros son iguales. por lo tanto 1 != 1 no es verdad\"\n",
    "\n",
    "lista_nums = [i for i in range(1,11)]\n",
    "lista_letras = \"abcdefghij\"\n",
    "\n",
    "dict_letras_nums = {lista_nums : lista_letras for lista_nums , lista_letras in zip(lista_nums , lista_letras)}\n",
    "dict_letras_nums\n"
   ]
  },
  {
   "cell_type": "code",
   "execution_count": null,
   "metadata": {},
   "outputs": [
    {
     "name": "stdout",
     "output_type": "stream",
     "text": [
      "Estos valores deberían de ser iguales. Pero son diferentes\n",
      " esta es una lista: [0, 1, 2, 3, 4, 5, 6, 7, 8, 9, 10]\n"
     ]
    }
   ],
   "source": [
    "# try (assert) , except\n",
    "a = 1\n",
    "b = 2\n",
    "try: \n",
    "    assert a == b, \"Estos valores deberían de ser iguales. Pero son diferentes\" \n",
    "    # \"a\" es igual a \"b\"? NO. Por lo tanto, la condición del assert es falsa y devuelve el expect\n",
    "\n",
    "except AssertionError as error:\n",
    "    print(error)\n",
    "    \n",
    "lista = [i for i in range(11)]\n",
    "print(f' esta es una lista: {lista}')"
   ]
  },
  {
   "attachments": {},
   "cell_type": "markdown",
   "metadata": {},
   "source": [
    "#### Manejo de excepciones propias\n",
    "**1-** para ello, colocamos la condicional `if` dentro de un `try`\n",
    " *para que: en caso de cumplirse la condición que hemos colocado. Se active el  `raise Exception(\"mensaje\")`\n",
    " así:           \n",
    " \n",
    "                try:\n",
    "                    num = 9\n",
    "                    if num < 10:\n",
    "                       raise Exception(\"No se permiten números menores a 10. Sácate de aquí\")\n",
    "                       \n",
    "**2-** después colocamos dentro del `except` la *Exception* que hemos colocado\n",
    "\n",
    "                except Exception as error:\n",
    "                    print(error)"
   ]
  },
  {
   "cell_type": "code",
   "execution_count": null,
   "metadata": {},
   "outputs": [
    {
     "name": "stdout",
     "output_type": "stream",
     "text": [
      "No se permiten números menores a 10. Sácate de aquí\n"
     ]
    }
   ],
   "source": [
    "try: \n",
    "    num = 9\n",
    "    if num < 10:\n",
    "        raise Exception(\"No se permiten números menores a 10. Sácate de aquí\")\n",
    "except Exception as error:\n",
    "    print (error)\n"
   ]
  },
  {
   "attachments": {},
   "cell_type": "markdown",
   "metadata": {},
   "source": [
    "Juntamos todas las condiciones dentro de un try (para no poner uno por cada condición / *assert*)"
   ]
  },
  {
   "cell_type": "code",
   "execution_count": 29,
   "metadata": {},
   "outputs": [
    {
     "name": "stdout",
     "output_type": "stream",
     "text": [
      "division by zero\n",
      " esta es una lista: [0, 1, 2, 3, 4, 5, 6, 7, 8, 9, 10]\n"
     ]
    },
    {
     "data": {
      "text/plain": [
       "{1: 'a',\n",
       " 2: 'b',\n",
       " 3: 'c',\n",
       " 4: 'd',\n",
       " 5: 'e',\n",
       " 6: 'f',\n",
       " 7: 'g',\n",
       " 8: 'h',\n",
       " 9: 'i',\n",
       " 10: 'j'}"
      ]
     },
     "execution_count": 29,
     "metadata": {},
     "output_type": "execute_result"
    }
   ],
   "source": [
    "numero_input = input(\"elige un número: \")\n",
    "if numero_input.isdigit() == True:\n",
    "    numero_input = int(numero_input)\n",
    "\n",
    "a = 1\n",
    "b = 2\n",
    "num = 9\n",
    "\n",
    "try: \n",
    "    division = numero_input / 0\n",
    "    print(numero_input)\n",
    "\n",
    "    assert a == b, \"Estos valores deberían de ser iguales. Pero son diferentes\" \n",
    "    # \"a\" es igual a \"b\"? NO. Por lo tanto, la condición del assert es falsa y devuelve el expect\n",
    "    \n",
    "    assert 1 != 1 , \"los numeros son iguales. por lo tanto 1 != 1 no es verdad\"\n",
    "    \n",
    "    if num < 10:\n",
    "        raise Exception(\"No se permiten números menores a 10. Sácate de aquí\")\n",
    "\n",
    "#indicar el error con una palabra clave\n",
    "except ZeroDivisionError as error:\n",
    "    print(error)\n",
    "\n",
    "except TypeError:\n",
    "    print(\"Colocar el número con dígitos, no con letras\")\n",
    "    \n",
    "except AssertionError as error:\n",
    "    print(error)\n",
    "      \n",
    "except Exception as error:\n",
    "    print (error)\n",
    "    \n",
    "lista = [i for i in range(11)]\n",
    "print(f' esta es una lista: {lista}')\n",
    "\n",
    "lista_nums = [i for i in range(1,11)]\n",
    "lista_letras = \"abcdefghij\"\n",
    "\n",
    "dict_letras_nums = {lista_nums : lista_letras for lista_nums , lista_letras in zip(lista_nums , lista_letras)}\n",
    "dict_letras_nums"
   ]
  },
  {
   "attachments": {},
   "cell_type": "markdown",
   "metadata": {},
   "source": [
    "capturar la expresión *ZeroDivisionError*\n",
    "\n"
   ]
  },
  {
   "cell_type": "code",
   "execution_count": 3,
   "metadata": {},
   "outputs": [
    {
     "name": "stdout",
     "output_type": "stream",
     "text": [
      "No se puede dividir por 0\n",
      "5.0\n"
     ]
    }
   ],
   "source": [
    "def my_divide(a, b):\n",
    "   # Escribe tu solución 👇\n",
    "   try:\n",
    "      result = a / b\n",
    "      return result\n",
    "   except ZeroDivisionError as error:\n",
    "      error = \"No se puede dividir por 0\"\n",
    "      return error\n",
    "  \n",
    "response = my_divide(10, 0)\n",
    "print(response) # No se puede dividir por 0\n",
    " \n",
    "response = my_divide(10, 2)\n",
    "print(response) # 5\n",
    "\n"
   ]
  },
  {
   "cell_type": "code",
   "execution_count": null,
   "metadata": {},
   "outputs": [],
   "source": []
  }
 ],
 "metadata": {
  "kernelspec": {
   "display_name": "python_projects",
   "language": "python",
   "name": "python3"
  },
  "language_info": {
   "codemirror_mode": {
    "name": "ipython",
    "version": 3
   },
   "file_extension": ".py",
   "mimetype": "text/x-python",
   "name": "python",
   "nbconvert_exporter": "python",
   "pygments_lexer": "ipython3",
   "version": "3.9.12"
  },
  "orig_nbformat": 4
 },
 "nbformat": 4,
 "nbformat_minor": 2
}
