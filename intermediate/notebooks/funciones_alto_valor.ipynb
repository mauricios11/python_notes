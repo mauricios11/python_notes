{
 "cells": [
  {
   "attachments": {},
   "cell_type": "markdown",
   "metadata": {},
   "source": [
    "### Funciones de alto valor (High order)\n",
    "\n",
    "Consiste en enviar una función dentro de otra función, y ejecutar la primera desde ahí\n",
    "\n",
    "* Es importante aclarar que cuando especificamos que habrá una función en los parámetros. Al momento de indicar cuál función será en los argumentos *NO debemos ejecutarla* $\\rightarrow$ `funcion` $\\not\\equiv$ `funcion()`\n",
    "\n",
    "            def func_1(n):\n",
    "                return  n + 10\n",
    ">            def func_2(x , func , n):\n",
    "                return x * func(n)\n",
    "\n",
    "            resultado = func_2( 2, func_1 , 10)\n",
    "\n"
   ]
  },
  {
   "cell_type": "code",
   "execution_count": 14,
   "metadata": {},
   "outputs": [
    {
     "data": {
      "text/plain": [
       "1020"
      ]
     },
     "execution_count": 14,
     "metadata": {},
     "output_type": "execute_result"
    }
   ],
   "source": [
    "# una variable como parámetro\n",
    "def suma(n):\n",
    "    operacion = n + 100\n",
    "    return operacion\n",
    "\n",
    "# una variable y una función como parámetro\n",
    "def aritmetica(x , func , n ): # high order func\n",
    "    operacion = x * func(n)\n",
    "    return operacion\n",
    "                # al espeficicar la función como argumento, No la ejecutamos()\n",
    "aritmetica(10 , suma , 2)\n",
    "    "
   ]
  },
  {
   "cell_type": "code",
   "execution_count": 26,
   "metadata": {},
   "outputs": [
    {
     "data": {
      "text/plain": [
       "4"
      ]
     },
     "execution_count": 26,
     "metadata": {},
     "output_type": "execute_result"
    }
   ],
   "source": [
    "# función lambda con una variable como parámetro\n",
    "resta = (lambda n : n - 2)\n",
    "\n",
    "# función lambda con una función y una varaible como parámetro\n",
    "high_order_func_division = (lambda n , func , x : func(n) / x)\n",
    "\n",
    "#la función invocada no se ejecuta()\n",
    "operacion = int(high_order_func_division(10 , resta , 2))\n",
    "operacion"
   ]
  },
  {
   "cell_type": "code",
   "execution_count": null,
   "metadata": {},
   "outputs": [],
   "source": []
  }
 ],
 "metadata": {
  "kernelspec": {
   "display_name": "python_projects",
   "language": "python",
   "name": "python3"
  },
  "language_info": {
   "codemirror_mode": {
    "name": "ipython",
    "version": 3
   },
   "file_extension": ".py",
   "mimetype": "text/x-python",
   "name": "python",
   "nbconvert_exporter": "python",
   "pygments_lexer": "ipython3",
   "version": "3.9.12"
  },
  "orig_nbformat": 4,
  "vscode": {
   "interpreter": {
    "hash": "2b3cdd43dca43692c1c9cfb45dd0231ab5908d4ab72dff2a1a694a90031f8401"
   }
  }
 },
 "nbformat": 4,
 "nbformat_minor": 2
}
