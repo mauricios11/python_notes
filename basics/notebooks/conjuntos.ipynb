{
 "cells": [
  {
   "attachments": {},
   "cell_type": "markdown",
   "metadata": {},
   "source": [
    "## Conjuntos\n",
    "Los conjuntos (**set**'s) almacenan elementos que tienen algo en común\n",
    "\n",
    "propiedades:\n",
    "* Se pueden modificar\n",
    "* No tienen un orden\n",
    "* No permiten duplicados, no es posible tener dos veces el mismo elemento\n",
    "* Recibe diferentes tipos de elementos. Con excepción de $\\rightarrow$ *tuplas, listas , otros set's*\n",
    "\n",
    "un conjunto es como un diccionario, pero sin sus *keys*\n",
    "* podría ser la razón por la que no tienen un orden determinado\n",
    "\n",
    "#### tips con el uso de *set*'s\n",
    "\n",
    "Una forma rápida de saber cuáles son los elementos únicso de una lista / tupla, es convertirlos a *set*\n",
    "* El resultado dará de manera predeterminada los valores únicos\n",
    "  * algunas veces será conveniente\n",
    "\n",
    "sintaxis fundamental para el uso de sets en python:\n",
    "\n",
    "* `set(valores)` $\\rightarrow$ {valores} : crear un conjunto a partir de una lista / tupla de elementos\n",
    "\n",
    "* `len(conjunto)` saber el largo del conjunto\n",
    "\n",
    "* `conjunto.add(elemento)` se agrega un elemento al conjunto\n",
    "\n",
    "* `conjunto.remove(elemeto)` se quita un elemento específico del conjunto (si no existe da error)\n",
    "\n",
    "* `conjunto.discard(elemento)` se quita un elemento del conjunto (si no existe no da error)\n",
    "* `conjunto.clear()` se quitan todos los elementos del conjunto, para quedar vacío\n",
    "\n",
    "\n"
   ]
  },
  {
   "cell_type": "code",
   "execution_count": 25,
   "metadata": {},
   "outputs": [
    {
     "name": "stdout",
     "output_type": "stream",
     "text": [
      "conjunto: {'mex', 'bol', 'col', 'bra'}, tipo de elemento: <class 'set'>\n"
     ]
    }
   ],
   "source": [
    "set_countries = {'col', 'mex', 'bol', 'bra'}\n",
    "print(f'conjunto: {set_countries}, tipo de elemento: {type(set_countries)}')"
   ]
  },
  {
   "cell_type": "code",
   "execution_count": 27,
   "metadata": {},
   "outputs": [
    {
     "data": {
      "text/plain": [
       "{1, 4, 5, 7, 9, 10, 52, 2323}"
      ]
     },
     "execution_count": 27,
     "metadata": {},
     "output_type": "execute_result"
    }
   ],
   "source": [
    "#no de repiten\n",
    "set_numbers = {1, 9, 10, 7, 4, 5, 2323, 52, 52}\n",
    "set_numbers"
   ]
  },
  {
   "cell_type": "code",
   "execution_count": 10,
   "metadata": {},
   "outputs": [],
   "source": [
    "#recibe diferentes tipos de parámetros: \n",
    "set_types = {\"string\", 12, 1.32, True}"
   ]
  },
  {
   "cell_type": "code",
   "execution_count": 55,
   "metadata": {},
   "outputs": [
    {
     "data": {
      "text/plain": [
       "{'a', 'h', 'l', 'o'}"
      ]
     },
     "execution_count": 55,
     "metadata": {},
     "output_type": "execute_result"
    }
   ],
   "source": [
    "#hacer un conjunto a partir de un string: \"hola\"\n",
    "string = \"hola\"\n",
    "set_string = set(string)\n",
    "set_string"
   ]
  },
  {
   "cell_type": "code",
   "execution_count": 13,
   "metadata": {},
   "outputs": [
    {
     "data": {
      "text/plain": [
       "{'234', 'asd', 'asf', 'fda', 'gasfd'}"
      ]
     },
     "execution_count": 13,
     "metadata": {},
     "output_type": "execute_result"
    }
   ],
   "source": [
    "# crear un conjunto a partir de una tupla\n",
    "set_tuple = set(('234','asd','asf','fda','gasfd'))\n",
    "set_tuple"
   ]
  },
  {
   "attachments": {},
   "cell_type": "markdown",
   "metadata": {},
   "source": [
    "Conocer el tamaño de un conjunto usando `len()`\n",
    "* el resultado da el número elementos del conjunto. no los cuenta por índice"
   ]
  },
  {
   "cell_type": "code",
   "execution_count": 16,
   "metadata": {},
   "outputs": [
    {
     "data": {
      "text/plain": [
       "5"
      ]
     },
     "execution_count": 16,
     "metadata": {},
     "output_type": "execute_result"
    }
   ],
   "source": [
    "len(set_tuple)"
   ]
  },
  {
   "attachments": {},
   "cell_type": "markdown",
   "metadata": {},
   "source": [
    "### agregar elementos: add( )\n",
    "agregar un nuevo elemento al conjunto usando `.add()`\n",
    "* lo peculiar de esta función es que al agregar un elemento nuevo. Los ya presentes **se ordenan** y el nuevo se coloca en función de su lugar equivalente: si es un string por su órden albabético, si es un número por su valor \n",
    "* `add()` acepta solo un parámetro por vez"
   ]
  },
  {
   "cell_type": "code",
   "execution_count": 20,
   "metadata": {},
   "outputs": [
    {
     "name": "stdout",
     "output_type": "stream",
     "text": [
      "{'mex', 'bol', 'col', 'bra'}\n"
     ]
    },
    {
     "data": {
      "text/plain": [
       "{'arg', 'bol', 'bra', 'col', 'mex'}"
      ]
     },
     "execution_count": 20,
     "metadata": {},
     "output_type": "execute_result"
    }
   ],
   "source": [
    "print(set_countries)\n",
    "set_countries.add(\"arg\")\n",
    "set_countries"
   ]
  },
  {
   "cell_type": "code",
   "execution_count": 32,
   "metadata": {},
   "outputs": [
    {
     "name": "stdout",
     "output_type": "stream",
     "text": [
      "{'mex', 'bol', '1', 'chi', 'col', '400', 'bra'}\n"
     ]
    },
    {
     "data": {
      "text/plain": [
       "{'-2', '1', '400', 'bol', 'bra', 'chi', 'col', 'mex'}"
      ]
     },
     "execution_count": 32,
     "metadata": {},
     "output_type": "execute_result"
    }
   ],
   "source": [
    "print(set_countries)\n",
    "set_countries.add(\"-2\")\n",
    "set_countries"
   ]
  },
  {
   "cell_type": "code",
   "execution_count": 29,
   "metadata": {},
   "outputs": [
    {
     "data": {
      "text/plain": [
       "{1, 4, 5, 7, 9, 10, 52, 400, 2323}"
      ]
     },
     "execution_count": 29,
     "metadata": {},
     "output_type": "execute_result"
    }
   ],
   "source": [
    "set_numbers.add(400)\n",
    "set_numbers"
   ]
  },
  {
   "attachments": {},
   "cell_type": "markdown",
   "metadata": {},
   "source": [
    "### agregar elementos: update( )\n",
    "con `update()` podemos agregar un nuevo conjunto de elementos al set actual\n",
    "* cuando se intenta agregar un valor que ya existe dentro del conjunto. este no se agrega"
   ]
  },
  {
   "cell_type": "code",
   "execution_count": 33,
   "metadata": {},
   "outputs": [
    {
     "data": {
      "text/plain": [
       "{'-2',\n",
       " 1,\n",
       " '1',\n",
       " 10,\n",
       " 2323,\n",
       " 4,\n",
       " 400,\n",
       " '400',\n",
       " 5,\n",
       " 52,\n",
       " 7,\n",
       " 9,\n",
       " 'bol',\n",
       " 'bra',\n",
       " 'chi',\n",
       " 'col',\n",
       " 'mex'}"
      ]
     },
     "execution_count": 33,
     "metadata": {},
     "output_type": "execute_result"
    }
   ],
   "source": [
    "# agregamos set_numbers al conjunto set_countries\n",
    "set_countries.update(set_numbers)\n",
    "set_countries"
   ]
  },
  {
   "attachments": {},
   "cell_type": "markdown",
   "metadata": {},
   "source": [
    "### Quitar elementos de un conjunto:  remove( ) / discard ( ) / clear\n",
    "\n",
    "#### remove\n",
    "Eliminamos valores dentro de un conjunto, colocándolos como parámetro de `remove()`\n",
    "\n",
    "  * dará un *error* si el elemento que queremos quitar no existe  en el conjunto\n",
    "\n",
    "#### discard\n",
    "Si queremos descartar un elemento, pero no estamos seguros de si está presente o no el conjunto podemos usar `discard( )`\n",
    "\n",
    "* el resultado es que simplemente no se descartan elementos. Porque aquel que se pretende remover no existe en el conjunto\n",
    "\n",
    "#### clear\n",
    "* sacamos **todos** los elementos del conjunto"
   ]
  },
  {
   "cell_type": "code",
   "execution_count": 49,
   "metadata": {},
   "outputs": [
    {
     "data": {
      "text/plain": [
       "{'-2', '1', 2323, 4, '400', 9, 'bol', 'bra', 'chi', 'col', 'mex'}"
      ]
     },
     "execution_count": 49,
     "metadata": {},
     "output_type": "execute_result"
    }
   ],
   "source": [
    "set_countries.remove(1)\n",
    "set_countries"
   ]
  },
  {
   "cell_type": "code",
   "execution_count": 52,
   "metadata": {},
   "outputs": [
    {
     "data": {
      "text/plain": [
       "{'-2', '1', 2323, 4, '400', 9, 'bol', 'bra', 'chi', 'col', 'mex'}"
      ]
     },
     "execution_count": 52,
     "metadata": {},
     "output_type": "execute_result"
    }
   ],
   "source": [
    "# descartamos algo que no existe\n",
    "set_countries.discard(11)\n",
    "set_countries"
   ]
  },
  {
   "cell_type": "code",
   "execution_count": 57,
   "metadata": {},
   "outputs": [
    {
     "name": "stdout",
     "output_type": "stream",
     "text": [
      "{'h', 'o', 'a', 'l'}\n",
      "None\n"
     ]
    }
   ],
   "source": [
    "# quitamos todos los elementos de un set\n",
    "print(set_string)\n",
    "print(set_string.clear())\n"
   ]
  },
  {
   "cell_type": "markdown",
   "metadata": {},
   "source": []
  }
 ],
 "metadata": {
  "kernelspec": {
   "display_name": "python_projects",
   "language": "python",
   "name": "python3"
  },
  "language_info": {
   "codemirror_mode": {
    "name": "ipython",
    "version": 3
   },
   "file_extension": ".py",
   "mimetype": "text/x-python",
   "name": "python",
   "nbconvert_exporter": "python",
   "pygments_lexer": "ipython3",
   "version": "3.9.12"
  },
  "orig_nbformat": 4,
  "vscode": {
   "interpreter": {
    "hash": "2b3cdd43dca43692c1c9cfb45dd0231ab5908d4ab72dff2a1a694a90031f8401"
   }
  }
 },
 "nbformat": 4,
 "nbformat_minor": 2
}
