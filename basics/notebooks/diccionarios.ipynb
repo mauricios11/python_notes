{
 "cells": [
  {
   "cell_type": "code",
   "execution_count": null,
   "metadata": {},
   "outputs": [],
   "source": []
  },
  {
   "attachments": {},
   "cell_type": "markdown",
   "metadata": {},
   "source": [
    "## Diccionarios"
   ]
  },
  {
   "cell_type": "code",
   "execution_count": 1,
   "metadata": {},
   "outputs": [
    {
     "data": {
      "text/plain": [
       "dict"
      ]
     },
     "execution_count": 1,
     "metadata": {},
     "output_type": "execute_result"
    }
   ],
   "source": [
    "my_dict = {}\n",
    "#consultamos qué tipo de elemento es: \n",
    "type(my_dict)"
   ]
  },
  {
   "cell_type": "code",
   "execution_count": 110,
   "metadata": {},
   "outputs": [],
   "source": [
    "#diccionario con contenido aleatorio\n",
    "\n",
    "person = {\n",
    "    'name': 'Mauricio',\n",
    "    'last_name': 'Escobar',\n",
    "    'langs': ['python'],\n",
    "    'age': 34\n",
    "    \n",
    "}\n",
    "\n",
    "my_dict = {\n",
    "    'avion' : \"texto avión\",\n",
    "    'name' : \"texto name\",\n",
    "    'control' : \"texto control\",\n",
    "    'last_name' : \"texto last name\",\n",
    "    'age': 100\n",
    "}\n",
    "my_dict_2 = {\n",
    "    'avion_2' : \"texto avión\",\n",
    "    'names' : \"texto name\",\n",
    "    'controller' : \"texto control\",\n",
    "    'nickname' : \"texto last name\",\n",
    "    'weight': 100\n",
    "}"
   ]
  },
  {
   "cell_type": "code",
   "execution_count": 111,
   "metadata": {},
   "outputs": [
    {
     "data": {
      "text/plain": [
       "{'name': 'Mauricios', 'langs': ['python', 'Java'], 'age': 34}"
      ]
     },
     "execution_count": 111,
     "metadata": {},
     "output_type": "execute_result"
    }
   ],
   "source": [
    "person[\"name\"] = \"Mauricios\" # cambiamos el nombre\n",
    "#person[\"age\"] -= 10 # restamos 10 a la edad\n",
    "person[\"langs\"].append(\"Java\")# agregar elementos a una key\n",
    "#del person[\"last_name\"] # eliminar un elemento\n",
    "person.pop(\"last_name\")\n",
    "person"
   ]
  },
  {
   "cell_type": "code",
   "execution_count": 113,
   "metadata": {},
   "outputs": [
    {
     "name": "stdout",
     "output_type": "stream",
     "text": [
      " items: dict_items([('name', 'Mauricios'), ('langs', ['python', 'Java']), ('age', 34)])\n",
      "\n",
      " keys: dict_keys(['name', 'langs', 'age'])\n",
      "\n",
      " values: dict_values(['Mauricios', ['python', 'Java'], 34])\n",
      "\n"
     ]
    }
   ],
   "source": [
    "print(f' items: {person.items()}\\n')\n",
    "print(f' keys: {person.keys()}\\n')\n",
    "print(f' values: {person.values()}\\n')"
   ]
  },
  {
   "attachments": {},
   "cell_type": "markdown",
   "metadata": {},
   "source": [
    "consultamos el largo del diccionario usando `len()`\n",
    "* recordar que esta función no cuenta los elementos por su índice, es decir: **empieza desde 1, no desde 0**"
   ]
  },
  {
   "cell_type": "code",
   "execution_count": 3,
   "metadata": {},
   "outputs": [
    {
     "data": {
      "text/plain": [
       "4"
      ]
     },
     "execution_count": 3,
     "metadata": {},
     "output_type": "execute_result"
    }
   ],
   "source": [
    "len(my_dict)"
   ]
  },
  {
   "attachments": {},
   "cell_type": "markdown",
   "metadata": {},
   "source": [
    "accedemos a un *value* del diccionario especificando su *key*\n",
    "\n",
    "* método 1: `diccionario['key']` = value\n",
    "* métoro 2: `diccionario.get('key)'` = value "
   ]
  },
  {
   "attachments": {},
   "cell_type": "markdown",
   "metadata": {},
   "source": [
    "Respecto a `.get()` si no existe el valor, el resultado será *None*\n",
    "* a diferencia del primero, que da un error"
   ]
  },
  {
   "cell_type": "code",
   "execution_count": 7,
   "metadata": {},
   "outputs": [
    {
     "data": {
      "text/plain": [
       "'texto last name'"
      ]
     },
     "execution_count": 7,
     "metadata": {},
     "output_type": "execute_result"
    }
   ],
   "source": [
    "my_dict[\"last_name\"]"
   ]
  },
  {
   "cell_type": "code",
   "execution_count": 8,
   "metadata": {},
   "outputs": [
    {
     "data": {
      "text/plain": [
       "'texto last name'"
      ]
     },
     "execution_count": 8,
     "metadata": {},
     "output_type": "execute_result"
    }
   ],
   "source": [
    "my_dict.get('last_name')"
   ]
  },
  {
   "cell_type": "code",
   "execution_count": 120,
   "metadata": {},
   "outputs": [],
   "source": [
    "# este key no existe\n",
    "my_dict.get(\"second_last_name\")"
   ]
  },
  {
   "cell_type": "code",
   "execution_count": 11,
   "metadata": {},
   "outputs": [
    {
     "data": {
      "text/plain": [
       "{'avion': 'texto avión',\n",
       " 'name': 'texto name',\n",
       " 'last_name': 'texto last name',\n",
       " 'age': 100}"
      ]
     },
     "execution_count": 11,
     "metadata": {},
     "output_type": "execute_result"
    }
   ],
   "source": [
    "my_dict"
   ]
  },
  {
   "attachments": {},
   "cell_type": "markdown",
   "metadata": {},
   "source": [
    "### formas de consultar si existe un key\n",
    "**1-** con `diccionario.get('key)` (si existe, da el value)\n",
    "**2-** con `'key' in diccionario` (da un booleano)"
   ]
  },
  {
   "cell_type": "code",
   "execution_count": 60,
   "metadata": {},
   "outputs": [
    {
     "data": {
      "text/plain": [
       "'texto avión'"
      ]
     },
     "execution_count": 60,
     "metadata": {},
     "output_type": "execute_result"
    }
   ],
   "source": [
    "#1\n",
    "my_dict.get('avion')\n"
   ]
  },
  {
   "cell_type": "code",
   "execution_count": 121,
   "metadata": {},
   "outputs": [
    {
     "data": {
      "text/plain": [
       "{'avion': 'texto avión',\n",
       " 'name': 'texto name',\n",
       " 'control': 'texto control',\n",
       " 'last_name': 'texto last name',\n",
       " 'age': 100,\n",
       " 'last_last_name': 'value'}"
      ]
     },
     "execution_count": 121,
     "metadata": {},
     "output_type": "execute_result"
    }
   ],
   "source": [
    "my_dict.update({\"last_last_name\" : \"value\"})\n",
    "my_dict"
   ]
  },
  {
   "cell_type": "code",
   "execution_count": 16,
   "metadata": {},
   "outputs": [
    {
     "data": {
      "text/plain": [
       "True"
      ]
     },
     "execution_count": 16,
     "metadata": {},
     "output_type": "execute_result"
    }
   ],
   "source": [
    "#2\n",
    "'avion' in my_dict"
   ]
  },
  {
   "attachments": {},
   "cell_type": "markdown",
   "metadata": {},
   "source": [
    "### Eliminar elementos de un diccionario\n",
    "\n",
    "funciones (métodos) en un diccionario:\n",
    "* `.clear()` Quita todos los elementos de un diccionario\n",
    "\n",
    "* `.copy()` Devuelve una copya del diccionario\n",
    "\n",
    "* `.fromkeys()` Hace un diccionario con los keys-values\n",
    "  * agregando como parámetro: \n",
    "  \n",
    "    * **key**$rightarrow$iterable: lista , tupla, `range()`, diccionario\n",
    "    * **value** \n",
    "\n",
    "    * también es posible invocar a la función desde un diccionadio vacío:\n",
    "     `{}.fromkeys(tupla, values)`\n",
    "  \n",
    "* `.get()` Devuelve el *value* de la *key* especificada\n",
    "\n",
    "* `.items()` Devuelve una lista de los *keys* del diccionario\n",
    "\n",
    "* `.values()` Devuelve una lista de los *values* del diccionario\n",
    "\n",
    "* `.pop()` Quita el key-value del elemento especificado \n",
    "\n",
    "* `.popitem()` Quita el último key-value del diccionario (última posición)\n",
    "\n",
    "* `.setdefault()` Devuelve el *value* de la *key especificada\n",
    "   * Si la *key* no existe la agrega con el valor especificado\n",
    "     * si no se especifica un *value*, será None\n",
    "\n",
    "* `.update()` actualiza el diccionario con los key-values especificados\n",
    "  * fusión de diccionarios\n",
    "\n",
    "     \n"
   ]
  },
  {
   "cell_type": "code",
   "execution_count": 44,
   "metadata": {},
   "outputs": [],
   "source": [
    "my_dict.update(my_dict_2)"
   ]
  },
  {
   "cell_type": "code",
   "execution_count": 72,
   "metadata": {},
   "outputs": [
    {
     "data": {
      "text/plain": [
       "{'auto': None, 'anillo': None, 'cuadrado': None}"
      ]
     },
     "execution_count": 72,
     "metadata": {},
     "output_type": "execute_result"
    }
   ],
   "source": [
    "tupla = (\"auto\",\"anillo\", \"cuadrado\")\n",
    "# values = \n",
    "diccionario = dict.fromkeys(tupla)\n",
    "diccionario"
   ]
  },
  {
   "attachments": {},
   "cell_type": "markdown",
   "metadata": {},
   "source": [
    "Hacer un contador de letras:\n",
    "Contar la cantidad de letras que hay en el abecedario que aparecen en una frase, incluyendo las que no aparecen"
   ]
  },
  {
   "cell_type": "code",
   "execution_count": 93,
   "metadata": {},
   "outputs": [
    {
     "name": "stdout",
     "output_type": "stream",
     "text": [
      "a:3\n",
      "b:0\n",
      "c:1\n",
      "d:1\n",
      "e:2\n",
      "f:1\n",
      "g:0\n",
      "h:3\n",
      "i:2\n",
      "j:0\n",
      "k:0\n",
      "l:3\n",
      "m:0\n",
      "n:0\n",
      "o:4\n",
      "p:0\n",
      "q:0\n",
      "r:1\n",
      "s:2\n",
      "t:0\n",
      "u:0\n",
      "v:0\n",
      "w:0\n",
      "x:0\n",
      "y:2\n",
      "z:0\n",
      "ñ:1\n"
     ]
    }
   ],
   "source": [
    "frase = \"Hóy há salido el Sol y hace frío.ñ\"\n",
    "\n",
    "#iterable\n",
    "letras = \"abcdefghijklmnopqrstuvwxyz\"\n",
    "\n",
    "conteo = dict.fromkeys(letras, 0\n",
    "    \n",
    ")\n",
    "\n",
    "def limpiar_acentos(texto):\n",
    "\tacentos = {'á': 'a', 'é': 'e', 'í': 'i', 'ó': 'o', 'ú': 'u'}\n",
    "\tfor acen in acentos:\n",
    "\t\tif acen in texto:\n",
    "\t\t    texto = texto.replace(acen, acentos[acen])\n",
    "\treturn texto\n",
    "\n",
    "frase_limpia = limpiar_acentos(frase)\n",
    "for letra in frase_limpia.lower().replace(\" \", \"\").replace(\".\",\"\"):\n",
    "    conteo.setdefault(letra, 0)# si no hay una letra, la agrega al diccionario\n",
    "    conteo[letra] +=1\n",
    "    #if letra in conteo:\n",
    "     #conteo[letra] += 1\n",
    "     \n",
    "for letra , numero in conteo.items():\n",
    "    print(f'{letra}:{numero}')\n",
    "    "
   ]
  }
 ],
 "metadata": {
  "kernelspec": {
   "display_name": "python_projects",
   "language": "python",
   "name": "python3"
  },
  "language_info": {
   "codemirror_mode": {
    "name": "ipython",
    "version": 3
   },
   "file_extension": ".py",
   "mimetype": "text/x-python",
   "name": "python",
   "nbconvert_exporter": "python",
   "pygments_lexer": "ipython3",
   "version": "3.9.12"
  },
  "orig_nbformat": 4,
  "vscode": {
   "interpreter": {
    "hash": "2b3cdd43dca43692c1c9cfb45dd0231ab5908d4ab72dff2a1a694a90031f8401"
   }
  }
 },
 "nbformat": 4,
 "nbformat_minor": 2
}
