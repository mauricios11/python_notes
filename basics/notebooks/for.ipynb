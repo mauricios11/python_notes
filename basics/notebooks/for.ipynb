{
 "cells": [
  {
   "cell_type": "code",
   "execution_count": null,
   "metadata": {},
   "outputs": [],
   "source": []
  },
  {
   "attachments": {},
   "cell_type": "markdown",
   "metadata": {},
   "source": [
    "## ciclo for"
   ]
  },
  {
   "attachments": {},
   "cell_type": "markdown",
   "metadata": {},
   "source": [
    "iteramos un elemento en un rango de 0 a 20 usando `range()`"
   ]
  },
  {
   "cell_type": "code",
   "execution_count": 3,
   "metadata": {},
   "outputs": [
    {
     "name": "stdout",
     "output_type": "stream",
     "text": [
      "0\n",
      "1\n",
      "2\n",
      "3\n",
      "4\n",
      "5\n",
      "6\n",
      "7\n",
      "8\n",
      "9\n",
      "10\n",
      "11\n",
      "12\n",
      "13\n",
      "14\n",
      "15\n",
      "16\n",
      "17\n",
      "18\n",
      "19\n"
     ]
    }
   ],
   "source": [
    "for element in range(20):\n",
    "    print(element)"
   ]
  },
  {
   "attachments": {},
   "cell_type": "markdown",
   "metadata": {},
   "source": [
    "esta vez comenzamos la iteración en 1, no en 0 e imprimimos el rango de 1 a 20\n",
    "* dado que `range()` recorre hasta un elemento antes del especificado. agregamos un $+1$ para que llegue al valor requerido"
   ]
  },
  {
   "cell_type": "code",
   "execution_count": 26,
   "metadata": {},
   "outputs": [
    {
     "name": "stdout",
     "output_type": "stream",
     "text": [
      "1\n",
      "2\n",
      "3\n",
      "4\n",
      "5\n",
      "6\n",
      "7\n",
      "8\n",
      "9\n",
      "10\n"
     ]
    }
   ],
   "source": [
    "diez = 10\n",
    "for element in range(1,(diez + 1)):\n",
    "    print (element)"
   ]
  },
  {
   "cell_type": "code",
   "execution_count": 38,
   "metadata": {},
   "outputs": [
    {
     "name": "stdout",
     "output_type": "stream",
     "text": [
      " iteración de lista número: 1 elemento: 94\n",
      " iteración de lista número: 2 elemento: 63\n",
      " iteración de lista número: 3 elemento: 36\n",
      " iteración de lista número: 4 elemento: 62\n",
      " iteración de lista número: 5 elemento: 21\n",
      " iteración de lista número: 6 elemento: 0\n",
      " iteración de lista número: 7 elemento: 56\n",
      " iteración de lista número: 8 elemento: 8\n",
      " iteración de lista número: 9 elemento: 84\n",
      " iteración de lista número: 10 elemento: 4\n"
     ]
    }
   ],
   "source": [
    "import random\n",
    "\n",
    "my_list = []\n",
    "for n in range(1, (diez + 1) ):\n",
    "    my_list.append(random.randrange(0,100))\n",
    "\n",
    "type(my_list)\n",
    "\n",
    "counter = 0\n",
    "for element in my_list:\n",
    "    counter += 1\n",
    "    print(f' iteración de lista número: {counter} elemento: {element}')\n",
    "    \n",
    "\n"
   ]
  },
  {
   "cell_type": "code",
   "execution_count": 40,
   "metadata": {},
   "outputs": [
    {
     "name": "stdout",
     "output_type": "stream",
     "text": [
      " iteración de tupla número: 1 element: 94\n",
      " iteración de tupla número: 2 element: 63\n",
      " iteración de tupla número: 3 element: 36\n",
      " iteración de tupla número: 4 element: 62\n",
      " iteración de tupla número: 5 element: 21\n",
      " iteración de tupla número: 6 element: 0\n",
      " iteración de tupla número: 7 element: 56\n",
      " iteración de tupla número: 8 element: 8\n",
      " iteración de tupla número: 9 element: 84\n",
      " iteración de tupla número: 10 element: 4\n"
     ]
    },
    {
     "data": {
      "text/plain": [
       "tuple"
      ]
     },
     "execution_count": 40,
     "metadata": {},
     "output_type": "execute_result"
    }
   ],
   "source": [
    "my_tuple = tuple(my_list)\n",
    "\n",
    "counter_tuple = 0\n",
    "for element in my_tuple:\n",
    "    counter_tuple += 1\n",
    "    print(f' iteración de tupla número: {counter_tuple} element: {element}')\n",
    "\n",
    "type(my_tuple)"
   ]
  },
  {
   "attachments": {},
   "cell_type": "markdown",
   "metadata": {},
   "source": [
    "Hacer un diccionario a partir de dos listas:\n",
    "* los *keys* serán generados por medio de un `for` que vaya en un rango de 3 elementos $[0,1,3]$\n",
    "* los values se tomarán de una lista con el mismo *len* que los *keys*\n",
    "\n",
    "##### generando el diccionario\n",
    "la iteración se hará:\n",
    "* Dado el largo de la lista que representa los *keys*, iterar todos sus elementos:\n",
    "\n",
    "  * en cada iteración se agregará al diccionario su *key* `num_list[número iteración]`\n",
    "  * a esta *key* se la asignará el *value* equivalente a la iteración actual `values[número iteración]`  "
   ]
  },
  {
   "cell_type": "code",
   "execution_count": 100,
   "metadata": {},
   "outputs": [
    {
     "name": "stdout",
     "output_type": "stream",
     "text": [
      " keys: [0, 1, 2]  values: ['telefono', 'computadora', 'batman']\n",
      "\n",
      " diccionario: {0: 'telefono', 1: 'computadora', 2: 'batman'}\n"
     ]
    }
   ],
   "source": [
    "num_list = []\n",
    "values_list = [\"telefono\", \"computadora\", \"batman\"]\n",
    "\n",
    "for n in range(3):\n",
    "    num_list.append(n)\n",
    "\n",
    "#\n",
    "product_dict = {}\n",
    "for n in range(len(num_list)):\n",
    "      product_dict[num_list[n]] = values_list[n]\n",
    "\n",
    "print(f' keys: {num_list}  values: {values_list}\\n')      \n",
    "print(f' diccionario: {product_dict}')\n"
   ]
  },
  {
   "cell_type": "code",
   "execution_count": 79,
   "metadata": {},
   "outputs": [
    {
     "name": "stdout",
     "output_type": "stream",
     "text": [
      " key número: 0, value: telefono\n",
      " key número: 1, value: computadora\n"
     ]
    }
   ],
   "source": [
    "for i in product_dict:\n",
    "    print(f' key número: {i}, value: {product_dict[i]}')\n",
    "    "
   ]
  },
  {
   "cell_type": "code",
   "execution_count": 84,
   "metadata": {},
   "outputs": [
    {
     "name": "stdout",
     "output_type": "stream",
     "text": [
      " key: 0   value: telefono\n",
      " key: 1   value: computadora\n",
      " key: 2   value: batman\n"
     ]
    }
   ],
   "source": [
    "for key , value in product_dict.items():\n",
    "    print(f' key: {key}   value: {value}')"
   ]
  },
  {
   "attachments": {},
   "cell_type": "markdown",
   "metadata": {},
   "source": [
    "lista de diccionarios"
   ]
  },
  {
   "cell_type": "code",
   "execution_count": 86,
   "metadata": {},
   "outputs": [],
   "source": [
    "people= [\n",
    "    {\"name\" : \"Juan\" , \"age\" : 23},\n",
    "    {\"name\" : \"John\" , \"age\" : 243},\n",
    "    {\"name\" : \"Junh\" , \"age\" : 34},\n",
    "]"
   ]
  },
  {
   "attachments": {},
   "cell_type": "markdown",
   "metadata": {},
   "source": [
    "Iterar una lista de diccionarios:"
   ]
  },
  {
   "cell_type": "code",
   "execution_count": 88,
   "metadata": {},
   "outputs": [
    {
     "name": "stdout",
     "output_type": "stream",
     "text": [
      "{'name': 'Juan', 'age': 23}\n",
      "{'name': 'John', 'age': 243}\n",
      "{'name': 'Junh', 'age': 34}\n"
     ]
    }
   ],
   "source": [
    "for person in people:\n",
    "    print(person)"
   ]
  },
  {
   "attachments": {},
   "cell_type": "markdown",
   "metadata": {},
   "source": [
    "obtener el *value* de la *key* `name`"
   ]
  },
  {
   "cell_type": "code",
   "execution_count": 98,
   "metadata": {},
   "outputs": [
    {
     "name": "stdout",
     "output_type": "stream",
     "text": [
      " name: Juan\n",
      " age: 23\n",
      "\n",
      " name: John\n",
      " age: 243\n",
      "\n",
      " name: Junh\n",
      " age: 34\n",
      "\n"
     ]
    }
   ],
   "source": [
    "for key in people:\n",
    "    print(f' name: {key[\"name\"]}')\n",
    "    print(f' age: {key[\"age\"]}\\n')"
   ]
  },
  {
   "cell_type": "code",
   "execution_count": null,
   "metadata": {},
   "outputs": [],
   "source": []
  }
 ],
 "metadata": {
  "kernelspec": {
   "display_name": "python_projects",
   "language": "python",
   "name": "python3"
  },
  "language_info": {
   "codemirror_mode": {
    "name": "ipython",
    "version": 3
   },
   "file_extension": ".py",
   "mimetype": "text/x-python",
   "name": "python",
   "nbconvert_exporter": "python",
   "pygments_lexer": "ipython3",
   "version": "3.9.12"
  },
  "orig_nbformat": 4,
  "vscode": {
   "interpreter": {
    "hash": "2b3cdd43dca43692c1c9cfb45dd0231ab5908d4ab72dff2a1a694a90031f8401"
   }
  }
 },
 "nbformat": 4,
 "nbformat_minor": 2
}
