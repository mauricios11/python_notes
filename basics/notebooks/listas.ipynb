{
 "cells": [
  {
   "cell_type": "code",
   "execution_count": 1,
   "metadata": {},
   "outputs": [],
   "source": [
    "import pyhere\n",
    "import pyprojroot"
   ]
  },
  {
   "attachments": {},
   "cell_type": "markdown",
   "metadata": {},
   "source": [
    "## Listas"
   ]
  },
  {
   "cell_type": "code",
   "execution_count": 82,
   "metadata": {},
   "outputs": [],
   "source": [
    "numbers = [1, 2, 3, 4 ,5 ,6 ,7 ,8 ,9, 0]\n",
    "frutas = [\"manzana\", \"pera\", \"limón\", \"aguacate\", \"polemo\", \"plátano\"]"
   ]
  },
  {
   "attachments": {},
   "cell_type": "markdown",
   "metadata": {},
   "source": [
    "Acceder al último elemento de la lista"
   ]
  },
  {
   "cell_type": "code",
   "execution_count": 83,
   "metadata": {},
   "outputs": [
    {
     "data": {
      "text/plain": [
       "0"
      ]
     },
     "execution_count": 83,
     "metadata": {},
     "output_type": "execute_result"
    }
   ],
   "source": [
    "numbers[-1]"
   ]
  },
  {
   "attachments": {},
   "cell_type": "markdown",
   "metadata": {},
   "source": [
    "Acceder al primer elemento de la lista"
   ]
  },
  {
   "cell_type": "code",
   "execution_count": 84,
   "metadata": {},
   "outputs": [
    {
     "data": {
      "text/plain": [
       "1"
      ]
     },
     "execution_count": 84,
     "metadata": {},
     "output_type": "execute_result"
    }
   ],
   "source": [
    "numbers[0]"
   ]
  },
  {
   "attachments": {},
   "cell_type": "markdown",
   "metadata": {},
   "source": [
    "Agregar un elemento nuevo al final de la lista"
   ]
  },
  {
   "cell_type": "code",
   "execution_count": 86,
   "metadata": {},
   "outputs": [
    {
     "data": {
      "text/plain": [
       "[1, 2, 3, 4, 5, 6, 7, 8, 9, 0, 60, 60]"
      ]
     },
     "execution_count": 86,
     "metadata": {},
     "output_type": "execute_result"
    }
   ],
   "source": [
    "numbers.append(60)\n",
    "numbers"
   ]
  },
  {
   "attachments": {},
   "cell_type": "markdown",
   "metadata": {},
   "source": [
    "cambiar el último elemento de la lista"
   ]
  },
  {
   "cell_type": "code",
   "execution_count": 87,
   "metadata": {},
   "outputs": [
    {
     "data": {
      "text/plain": [
       "[1, 2, 3, 4, 5, 6, 7, 8, 9, 0, 60, 70]"
      ]
     },
     "execution_count": 87,
     "metadata": {},
     "output_type": "execute_result"
    }
   ],
   "source": [
    "numbers[-1] = 70\n",
    "numbers"
   ]
  },
  {
   "attachments": {},
   "cell_type": "markdown",
   "metadata": {},
   "source": [
    "Agregar un elemento al principio de la lista usando `insert(indice, elemento)`"
   ]
  },
  {
   "cell_type": "code",
   "execution_count": 88,
   "metadata": {},
   "outputs": [
    {
     "data": {
      "text/plain": [
       "['computadora', 1, 2, 3, 4, 5, 6, 7, 8, 9, 0, 60, 70]"
      ]
     },
     "execution_count": 88,
     "metadata": {},
     "output_type": "execute_result"
    }
   ],
   "source": [
    "numbers.insert(0,\"computadora\")\n",
    "numbers"
   ]
  },
  {
   "attachments": {},
   "cell_type": "markdown",
   "metadata": {},
   "source": [
    "Agregar un elemento especificando su posición"
   ]
  },
  {
   "cell_type": "code",
   "execution_count": 89,
   "metadata": {},
   "outputs": [
    {
     "data": {
      "text/plain": [
       "['computadora', 1, 2, 3, 'televisión', 4, 5, 6, 7, 8, 9, 0, 60, 70]"
      ]
     },
     "execution_count": 89,
     "metadata": {},
     "output_type": "execute_result"
    }
   ],
   "source": [
    "numbers.insert(4, \"televisión\")\n",
    "numbers\n"
   ]
  },
  {
   "attachments": {},
   "cell_type": "markdown",
   "metadata": {},
   "source": [
    "Fusionar dos listas"
   ]
  },
  {
   "cell_type": "code",
   "execution_count": 90,
   "metadata": {},
   "outputs": [
    {
     "data": {
      "text/plain": [
       "['computadora',\n",
       " 1,\n",
       " 2,\n",
       " 3,\n",
       " 'televisión',\n",
       " 4,\n",
       " 5,\n",
       " 6,\n",
       " 7,\n",
       " 8,\n",
       " 9,\n",
       " 0,\n",
       " 60,\n",
       " 70,\n",
       " 'manzana',\n",
       " 'pera',\n",
       " 'limón',\n",
       " 'aguacate',\n",
       " 'polemo',\n",
       " 'plátano']"
      ]
     },
     "execution_count": 90,
     "metadata": {},
     "output_type": "execute_result"
    }
   ],
   "source": [
    "numeros_frutas = numbers + frutas\n",
    "numeros_frutas"
   ]
  },
  {
   "attachments": {},
   "cell_type": "markdown",
   "metadata": {},
   "source": [
    "Consultar en qué posición de índice está: \"manzana\" y cambiarlo por \"durazno\"\n",
    "* para ello usamos `index(\"elemento\")` conocer su posisión\n",
    "* después, a esta posición le asignamos el nuevo elemento"
   ]
  },
  {
   "cell_type": "code",
   "execution_count": 91,
   "metadata": {},
   "outputs": [
    {
     "data": {
      "text/plain": [
       "['computadora',\n",
       " 1,\n",
       " 2,\n",
       " 3,\n",
       " 'televisión',\n",
       " 4,\n",
       " 5,\n",
       " 6,\n",
       " 7,\n",
       " 8,\n",
       " 9,\n",
       " 0,\n",
       " 60,\n",
       " 70,\n",
       " 'durazno',\n",
       " 'pera',\n",
       " 'limón',\n",
       " 'aguacate',\n",
       " 'polemo',\n",
       " 'plátano']"
      ]
     },
     "execution_count": 91,
     "metadata": {},
     "output_type": "execute_result"
    }
   ],
   "source": [
    "posicion_manzana = numeros_frutas.index(\"manzana\")\n",
    "numeros_frutas[posicion_manzana] = \"durazno\"\n",
    "numeros_frutas"
   ]
  },
  {
   "attachments": {},
   "cell_type": "markdown",
   "metadata": {},
   "source": [
    "Quitar un elemento específico de la lista\n",
    "* lo haremos con la función `remove()` donde se especifica el elemento en cuestión"
   ]
  },
  {
   "cell_type": "code",
   "execution_count": 92,
   "metadata": {},
   "outputs": [
    {
     "data": {
      "text/plain": [
       "['computadora',\n",
       " 1,\n",
       " 2,\n",
       " 3,\n",
       " 'televisión',\n",
       " 4,\n",
       " 5,\n",
       " 6,\n",
       " 7,\n",
       " 8,\n",
       " 9,\n",
       " 0,\n",
       " 60,\n",
       " 70,\n",
       " 'durazno',\n",
       " 'pera',\n",
       " 'limón',\n",
       " 'aguacate',\n",
       " 'polemo']"
      ]
     },
     "execution_count": 92,
     "metadata": {},
     "output_type": "execute_result"
    }
   ],
   "source": [
    "numeros_frutas.remove(\"plátano\")\n",
    "numeros_frutas"
   ]
  },
  {
   "attachments": {},
   "cell_type": "markdown",
   "metadata": {},
   "source": [
    "Quitar el último elemento de la lista usando `pop()`"
   ]
  },
  {
   "cell_type": "code",
   "execution_count": 93,
   "metadata": {},
   "outputs": [
    {
     "data": {
      "text/plain": [
       "['computadora',\n",
       " 1,\n",
       " 2,\n",
       " 3,\n",
       " 'televisión',\n",
       " 4,\n",
       " 5,\n",
       " 6,\n",
       " 7,\n",
       " 8,\n",
       " 9,\n",
       " 0,\n",
       " 60,\n",
       " 70,\n",
       " 'durazno',\n",
       " 'pera',\n",
       " 'limón',\n",
       " 'aguacate']"
      ]
     },
     "execution_count": 93,
     "metadata": {},
     "output_type": "execute_result"
    }
   ],
   "source": [
    "numeros_frutas.pop()\n",
    "numeros_frutas"
   ]
  },
  {
   "attachments": {},
   "cell_type": "markdown",
   "metadata": {},
   "source": [
    "Quitamos un elemento específico de la lista usando `pop()`\n",
    "* indicando como parámetro su posición de índice $\\rightarrow$ `pop(0)`"
   ]
  },
  {
   "cell_type": "code",
   "execution_count": 94,
   "metadata": {},
   "outputs": [
    {
     "data": {
      "text/plain": [
       "['computadora',\n",
       " 1,\n",
       " 2,\n",
       " 3,\n",
       " 'televisión',\n",
       " 4,\n",
       " 5,\n",
       " 6,\n",
       " 7,\n",
       " 8,\n",
       " 9,\n",
       " 0,\n",
       " 60,\n",
       " 70,\n",
       " 'durazno',\n",
       " 'limón',\n",
       " 'aguacate']"
      ]
     },
     "execution_count": 94,
     "metadata": {},
     "output_type": "execute_result"
    }
   ],
   "source": [
    "posicion_pera = numeros_frutas.index(\"pera\")\n",
    "numeros_frutas.pop(posicion_pera)\n",
    "numeros_frutas"
   ]
  },
  {
   "attachments": {},
   "cell_type": "markdown",
   "metadata": {},
   "source": [
    "Invertir los elementos de la la lista (los últimos a las primeras posiciones y viceversa)\n",
    "* para ello usaremos `lista.reverse()`"
   ]
  },
  {
   "cell_type": "code",
   "execution_count": 95,
   "metadata": {},
   "outputs": [
    {
     "data": {
      "text/plain": [
       "['aguacate',\n",
       " 'limón',\n",
       " 'durazno',\n",
       " 70,\n",
       " 60,\n",
       " 0,\n",
       " 9,\n",
       " 8,\n",
       " 7,\n",
       " 6,\n",
       " 5,\n",
       " 4,\n",
       " 'televisión',\n",
       " 3,\n",
       " 2,\n",
       " 1,\n",
       " 'computadora']"
      ]
     },
     "execution_count": 95,
     "metadata": {},
     "output_type": "execute_result"
    }
   ],
   "source": [
    "numeros_frutas.reverse()\n",
    "numeros_frutas"
   ]
  },
  {
   "attachments": {},
   "cell_type": "markdown",
   "metadata": {},
   "source": [
    "Ordenar los elementos de una lista usando `lista.sort()`\n",
    "* podemos hacerlo con **listas que tienen el mismo tipo de elemento** (números, strings)"
   ]
  },
  {
   "cell_type": "code",
   "execution_count": 96,
   "metadata": {},
   "outputs": [
    {
     "data": {
      "text/plain": [
       "['computadora', 1, 2, 3, 'televisión', 4, 5, 6, 7, 8, 9, 0, 60, 70]"
      ]
     },
     "execution_count": 96,
     "metadata": {},
     "output_type": "execute_result"
    }
   ],
   "source": [
    "# dado que la lista numbers tiene strings. Los quitamos de la lista\n",
    "numbers_copy = numbers.copy()\n",
    "numbers_copy\n"
   ]
  },
  {
   "cell_type": "code",
   "execution_count": 99,
   "metadata": {},
   "outputs": [
    {
     "data": {
      "text/plain": [
       "[1, 2, 3, 4, 5, 6, 7, 8, 9, 0, 60, 70]"
      ]
     },
     "execution_count": 99,
     "metadata": {},
     "output_type": "execute_result"
    }
   ],
   "source": [
    "#posicion_tv = numbers_copy.index(\"televisión\")\n",
    "posicion_pc = numbers_copy.index(\"computadora\")\n",
    "numbers_copy.pop(posicion_pc)\n",
    "numbers_copy\n"
   ]
  },
  {
   "cell_type": "code",
   "execution_count": 102,
   "metadata": {},
   "outputs": [
    {
     "name": "stdout",
     "output_type": "stream",
     "text": [
      "[0, 1, 2, 3, 4, 5, 6, 7, 8, 9, 60, 70]\n",
      "['aguacate', 'limón', 'manzana', 'pera', 'plátano', 'polemo']\n"
     ]
    }
   ],
   "source": [
    "#ordenamos\n",
    "numbers_copy.sort()\n",
    "print(numbers_copy)\n",
    "frutas.sort()\n",
    "print(frutas)"
   ]
  }
 ],
 "metadata": {
  "kernelspec": {
   "display_name": "python_projects",
   "language": "python",
   "name": "python3"
  },
  "language_info": {
   "codemirror_mode": {
    "name": "ipython",
    "version": 3
   },
   "file_extension": ".py",
   "mimetype": "text/x-python",
   "name": "python",
   "nbconvert_exporter": "python",
   "pygments_lexer": "ipython3",
   "version": "3.9.12"
  },
  "orig_nbformat": 4,
  "vscode": {
   "interpreter": {
    "hash": "2b3cdd43dca43692c1c9cfb45dd0231ab5908d4ab72dff2a1a694a90031f8401"
   }
  }
 },
 "nbformat": 4,
 "nbformat_minor": 2
}
