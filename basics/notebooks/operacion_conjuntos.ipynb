{
 "cells": [
  {
   "attachments": {},
   "cell_type": "markdown",
   "metadata": {},
   "source": [
    "# Operaciones con conjuntos (sets)\n",
    "\n",
    "Existen varias operaciones que podemos hacer a la hora de relacionar conjuntos. Estas operaciones se encargan de fusionarlos\n",
    "especificando qué parte de estos necesitamos: \n",
    "\n",
    "* **unir dos conjuntos**: Se fusionan los elementos en un conjunto nuevo\n",
    "* **intersección entre conjuntos**: Se hace un conjunto solo los elementos que están presentes en ambos conjuntos\n",
    "* **diferencia entre dos conjuntos**:  Se hace un set con los elementos del conjunto principal que NO están en el conjunto secundario\n",
    "* **diferencia simétrica entre conjuntos**: Se hace un set con los elementos que no están presentes en ambos conjuntos\n",
    "\n",
    "su sintaxis es la siguiente: \n",
    "\n",
    "**unir**:  `.union()` $\\rightarrow$ `main_set.union(second_set)`\n",
    "    * También se puede usar el operador `|`: `main_set & second_set`\n",
    "\n",
    "**intersección**: `intersection()` $\\rightarrow$ `main_set.intersection(second_set)`\n",
    "    * También se puede usar el operador `&`: `main_set | second_set`\n",
    "\n",
    "**diferencia entre conjuntos**: `.difference()` $\\rightarrow$ `main_set.difference(second_set)`\n",
    "    * También se puede usar el operador `-`: `main_set - second_set`\n",
    "\n",
    "**diferencia simétrica**: `symetric_difference()` $\\rightarrow$ `main_set.symmetric_difference(second_set)`\n",
    "    * * También se puede usar el operador `^`: `main_set ^ second_set`"
   ]
  },
  {
   "cell_type": "code",
   "execution_count": 17,
   "metadata": {},
   "outputs": [
    {
     "data": {
      "text/plain": [
       "{'cama', 'espejo', 'lámpara', 'mesa', 'perchero', 'silla'}"
      ]
     },
     "execution_count": 17,
     "metadata": {},
     "output_type": "execute_result"
    }
   ],
   "source": [
    "list_muebles = [\"sofá\", \"silla\", \"lámpara\", \"mesa\", \"escritorio\"]\n",
    "list_room = (\"cama\", \"espejo\", \"lámpara\", \"silla\", \"mesa\", \"perchero\")\n",
    "set_muebles = set(list_muebles)\n",
    "set_room = set(list_room)\n",
    "\n",
    "set_room "
   ]
  },
  {
   "cell_type": "code",
   "execution_count": 3,
   "metadata": {},
   "outputs": [
    {
     "data": {
      "text/plain": [
       "{'cama',\n",
       " 'escritorio',\n",
       " 'espejo',\n",
       " 'lámpara',\n",
       " 'mesa',\n",
       " 'perchero',\n",
       " 'silla',\n",
       " 'sofá'}"
      ]
     },
     "execution_count": 3,
     "metadata": {},
     "output_type": "execute_result"
    }
   ],
   "source": [
    "#union\n",
    "set_union = set_room.union(list_muebles)\n",
    "set_union"
   ]
  },
  {
   "cell_type": "code",
   "execution_count": 12,
   "metadata": {},
   "outputs": [
    {
     "data": {
      "text/plain": [
       "{'cama', 'espejo', 'perchero'}"
      ]
     },
     "execution_count": 12,
     "metadata": {},
     "output_type": "execute_result"
    }
   ],
   "source": [
    "#diferencia\n",
    "set_difference = set_room.difference(set_muebles)\n",
    "set_difference"
   ]
  },
  {
   "cell_type": "code",
   "execution_count": 13,
   "metadata": {},
   "outputs": [
    {
     "data": {
      "text/plain": [
       "{'cama', 'escritorio', 'espejo', 'perchero', 'sofá'}"
      ]
     },
     "execution_count": 13,
     "metadata": {},
     "output_type": "execute_result"
    }
   ],
   "source": [
    "# diferencia simétrica\n",
    "set_sim_diff = set_room.symmetric_difference(set_muebles)\n",
    "set_sim_diff"
   ]
  },
  {
   "cell_type": "code",
   "execution_count": 20,
   "metadata": {},
   "outputs": [
    {
     "data": {
      "text/plain": [
       "{'lámpara', 'mesa', 'silla'}"
      ]
     },
     "execution_count": 20,
     "metadata": {},
     "output_type": "execute_result"
    }
   ],
   "source": [
    "intersection = set_room.intersection(set_muebles)\n",
    "intersection"
   ]
  },
  {
   "cell_type": "code",
   "execution_count": 22,
   "metadata": {},
   "outputs": [
    {
     "name": "stdout",
     "output_type": "stream",
     "text": [
      "{'silla', 'mesa', 'lámpara'}\n"
     ]
    }
   ],
   "source": [
    "print(set_room & set_muebles)"
   ]
  },
  {
   "cell_type": "code",
   "execution_count": 21,
   "metadata": {},
   "outputs": [
    {
     "name": "stdout",
     "output_type": "stream",
     "text": [
      "{'mesa', 'lámpara', 'espejo', 'cama', 'escritorio', 'silla', 'sofá', 'perchero'}\n"
     ]
    }
   ],
   "source": [
    "print(set_room | set_muebles)"
   ]
  },
  {
   "cell_type": "code",
   "execution_count": 23,
   "metadata": {},
   "outputs": [
    {
     "name": "stdout",
     "output_type": "stream",
     "text": [
      "{'cama', 'escritorio', 'espejo', 'sofá', 'perchero'}\n"
     ]
    }
   ],
   "source": [
    "print(set_room ^ set_muebles)"
   ]
  },
  {
   "attachments": {},
   "cell_type": "markdown",
   "metadata": {},
   "source": [
    "Eliminar duplicados usando conjuntos:\n",
    "hacer un conjunto hecho de varios donde al agregarlos, se eliminen los repetidos"
   ]
  },
  {
   "cell_type": "code",
   "execution_count": 24,
   "metadata": {},
   "outputs": [],
   "source": [
    "countries = {\"MX\", \"COL\", \"ARG\", \"USA\"}\n",
    "northAm = {\"USA\", \"CANADA\"}\n",
    "centralAm = {\"MX\", \"GT\", \"BZ\"}\n",
    "southAm = {\"COL\", \"BZ\", \"ARG\"}"
   ]
  },
  {
   "cell_type": "code",
   "execution_count": 42,
   "metadata": {},
   "outputs": [
    {
     "data": {
      "text/plain": [
       "{'ARG', 'BZ', 'CANADA', 'COL', 'GT', 'MX', 'USA', 'hola'}"
      ]
     },
     "execution_count": 42,
     "metadata": {},
     "output_type": "execute_result"
    }
   ],
   "source": [
    "set_ = northAm.union(countries, centralAm, southAm)\n",
    "        "
   ]
  },
  {
   "attachments": {},
   "cell_type": "markdown",
   "metadata": {},
   "source": [
    "forma en la que está elaborado el método *union*"
   ]
  },
  {
   "cell_type": "code",
   "execution_count": null,
   "metadata": {},
   "outputs": [],
   "source": [
    "def union(*s : Iterable[_S@union]) -> set [str | _S@union]:"
   ]
  }
 ],
 "metadata": {
  "kernelspec": {
   "display_name": "python_projects",
   "language": "python",
   "name": "python3"
  },
  "language_info": {
   "codemirror_mode": {
    "name": "ipython",
    "version": 3
   },
   "file_extension": ".py",
   "mimetype": "text/x-python",
   "name": "python",
   "nbconvert_exporter": "python",
   "pygments_lexer": "ipython3",
   "version": "3.9.12"
  },
  "orig_nbformat": 4,
  "vscode": {
   "interpreter": {
    "hash": "2b3cdd43dca43692c1c9cfb45dd0231ab5908d4ab72dff2a1a694a90031f8401"
   }
  }
 },
 "nbformat": 4,
 "nbformat_minor": 2
}
